{
 "cells": [
  {
   "attachments": {},
   "cell_type": "markdown",
   "metadata": {},
   "source": [
    "## Import cities_df"
   ]
  },
  {
   "cell_type": "code",
   "execution_count": 2,
   "metadata": {},
   "outputs": [],
   "source": [
    "import pandas as pd"
   ]
  },
  {
   "cell_type": "code",
   "execution_count": 3,
   "metadata": {},
   "outputs": [],
   "source": [
    "cities_df= pd.read_pickle(\"cities2.pkl\")  "
   ]
  },
  {
   "attachments": {},
   "cell_type": "markdown",
   "metadata": {},
   "source": [
    "## Get Weather from API"
   ]
  },
  {
   "cell_type": "code",
   "execution_count": 4,
   "metadata": {},
   "outputs": [],
   "source": [
    "import requests\n",
    "import json\n",
    "from api_key import API_key"
   ]
  },
  {
   "cell_type": "code",
   "execution_count": 5,
   "metadata": {},
   "outputs": [],
   "source": [
    "def ConvertCoord(coord):\n",
    "    #convert lat and long\n",
    "    lat,long = coord.replace(\"°E\",\"\").replace(\"°N\",\"\").split(\" \")\n",
    "    if lat.find(\"°S\") != -1 :\n",
    "        lat=\"-\" + lat.replace(\"°S\",\"\")\n",
    "    if long.find(\"°W\") != -1 :\n",
    "        long=\"-\" + long.replace(\"°W\",\"\")\n",
    "    try:\n",
    "        lat= float(lat)\n",
    "        long= float(long)\n",
    "    except:\n",
    "        print(\"ERROR, COORDINATES are not Convertable\")\n",
    "    return (lat,long)"
   ]
  },
  {
   "cell_type": "code",
   "execution_count": null,
   "metadata": {},
   "outputs": [
    {
     "name": "stdout",
     "output_type": "stream",
     "text": [
      "52.52 13.405\n"
     ]
    }
   ],
   "source": [
    "# coor= \"52.52000°N 13.40500°E\"  \n",
    "# lat,long = ConvertCoord(coor)\n",
    "# print(lat,long)\n",
    "# url_weather= f\"https://api.openweathermap.org/data/2.5/forecast?lat={lat}&lon={long}&appid={API_key}\"\n",
    "# weather_response = requests.get(url_weather)\n",
    "# weather_json_l= weather_response.json()\n",
    "# #print(json.dumps(weather_json_l, indent=2))"
   ]
  },
  {
   "cell_type": "code",
   "execution_count": 6,
   "metadata": {},
   "outputs": [],
   "source": [
    "weather_json_l=[]\n",
    "for coor in cities_df.coordinate:\n",
    "    lat,long = ConvertCoord(coor)\n",
    "    url_weather= f\"https://api.openweathermap.org/data/2.5/forecast?lat={lat}&lon={long}&appid={API_key}&units=metric\"\n",
    "    weather_response = requests.get(url_weather)\n",
    "    if weather_response.status_code != 200:\n",
    "        print(weather_response.text)\n",
    "        weather_json = \"\"\n",
    "    else:\n",
    "        weather_json_l.append(weather_response.json())\n",
    "       "
   ]
  },
  {
   "cell_type": "code",
   "execution_count": null,
   "metadata": {},
   "outputs": [],
   "source": [
    "# from pprint import pprint\n",
    "# pprint(weather_json_l[0])"
   ]
  },
  {
   "cell_type": "code",
   "execution_count": 7,
   "metadata": {},
   "outputs": [],
   "source": [
    "cities_weath = {\"cities\":[]\n",
    "                ,\"forcast_time\":[]\n",
    "                ,\"outlook\":[]\n",
    "                ,\"temperature\":[]\n",
    "                ,\"feels_like\":[]\n",
    "                ,\"wind_speed\":[]\n",
    "                ,\"rain_prob\":[]\n",
    "                }\n",
    "\n",
    "for j,city_json in enumerate(weather_json_l):\n",
    "    current_city = cities_df.loc[j].cities\n",
    "    for time in city_json[\"list\"]:\n",
    "        cities_weath[\"cities\"].append(current_city)\n",
    "        cities_weath[\"forcast_time\"].append(time[\"dt_txt\"])\n",
    "        cities_weath[\"temperature\"].append(time[\"main\"][\"temp\"])\n",
    "        cities_weath[\"outlook\"].append(time[\"weather\"][0][\"description\"])\n",
    "        cities_weath[\"feels_like\"].append(time[\"main\"][\"feels_like\"])\n",
    "        cities_weath[\"wind_speed\"].append(time[\"wind\"][\"speed\"])\n",
    "        cities_weath[\"rain_prob\"].append(time[\"pop\"])\n",
    "        "
   ]
  },
  {
   "cell_type": "code",
   "execution_count": 8,
   "metadata": {},
   "outputs": [],
   "source": [
    "cities_weather_df = pd.DataFrame(cities_weath)"
   ]
  },
  {
   "attachments": {},
   "cell_type": "markdown",
   "metadata": {},
   "source": [
    "### Final df"
   ]
  },
  {
   "cell_type": "code",
   "execution_count": 9,
   "metadata": {},
   "outputs": [
    {
     "data": {
      "text/html": [
       "<div>\n",
       "<style scoped>\n",
       "    .dataframe tbody tr th:only-of-type {\n",
       "        vertical-align: middle;\n",
       "    }\n",
       "\n",
       "    .dataframe tbody tr th {\n",
       "        vertical-align: top;\n",
       "    }\n",
       "\n",
       "    .dataframe thead th {\n",
       "        text-align: right;\n",
       "    }\n",
       "</style>\n",
       "<table border=\"1\" class=\"dataframe\">\n",
       "  <thead>\n",
       "    <tr style=\"text-align: right;\">\n",
       "      <th></th>\n",
       "      <th>cities</th>\n",
       "      <th>forcast_time</th>\n",
       "      <th>outlook</th>\n",
       "      <th>temperature</th>\n",
       "      <th>feels_like</th>\n",
       "      <th>wind_speed</th>\n",
       "      <th>rain_prob</th>\n",
       "    </tr>\n",
       "  </thead>\n",
       "  <tbody>\n",
       "    <tr>\n",
       "      <th>0</th>\n",
       "      <td>London</td>\n",
       "      <td>2023-01-04 12:00:00</td>\n",
       "      <td>light rain</td>\n",
       "      <td>12.91</td>\n",
       "      <td>12.42</td>\n",
       "      <td>7.97</td>\n",
       "      <td>0.30</td>\n",
       "    </tr>\n",
       "    <tr>\n",
       "      <th>1</th>\n",
       "      <td>London</td>\n",
       "      <td>2023-01-04 15:00:00</td>\n",
       "      <td>overcast clouds</td>\n",
       "      <td>12.45</td>\n",
       "      <td>11.76</td>\n",
       "      <td>7.48</td>\n",
       "      <td>0.00</td>\n",
       "    </tr>\n",
       "    <tr>\n",
       "      <th>2</th>\n",
       "      <td>London</td>\n",
       "      <td>2023-01-04 18:00:00</td>\n",
       "      <td>overcast clouds</td>\n",
       "      <td>10.98</td>\n",
       "      <td>10.17</td>\n",
       "      <td>6.71</td>\n",
       "      <td>0.00</td>\n",
       "    </tr>\n",
       "    <tr>\n",
       "      <th>3</th>\n",
       "      <td>London</td>\n",
       "      <td>2023-01-04 21:00:00</td>\n",
       "      <td>overcast clouds</td>\n",
       "      <td>10.69</td>\n",
       "      <td>9.80</td>\n",
       "      <td>6.37</td>\n",
       "      <td>0.00</td>\n",
       "    </tr>\n",
       "    <tr>\n",
       "      <th>4</th>\n",
       "      <td>London</td>\n",
       "      <td>2023-01-05 00:00:00</td>\n",
       "      <td>overcast clouds</td>\n",
       "      <td>10.92</td>\n",
       "      <td>9.97</td>\n",
       "      <td>6.06</td>\n",
       "      <td>0.00</td>\n",
       "    </tr>\n",
       "    <tr>\n",
       "      <th>...</th>\n",
       "      <td>...</td>\n",
       "      <td>...</td>\n",
       "      <td>...</td>\n",
       "      <td>...</td>\n",
       "      <td>...</td>\n",
       "      <td>...</td>\n",
       "      <td>...</td>\n",
       "    </tr>\n",
       "    <tr>\n",
       "      <th>515</th>\n",
       "      <td>Vienna</td>\n",
       "      <td>2023-01-08 21:00:00</td>\n",
       "      <td>overcast clouds</td>\n",
       "      <td>5.70</td>\n",
       "      <td>4.89</td>\n",
       "      <td>1.39</td>\n",
       "      <td>0.00</td>\n",
       "    </tr>\n",
       "    <tr>\n",
       "      <th>516</th>\n",
       "      <td>Vienna</td>\n",
       "      <td>2023-01-09 00:00:00</td>\n",
       "      <td>light rain</td>\n",
       "      <td>6.37</td>\n",
       "      <td>5.47</td>\n",
       "      <td>1.53</td>\n",
       "      <td>0.36</td>\n",
       "    </tr>\n",
       "    <tr>\n",
       "      <th>517</th>\n",
       "      <td>Vienna</td>\n",
       "      <td>2023-01-09 03:00:00</td>\n",
       "      <td>moderate rain</td>\n",
       "      <td>5.76</td>\n",
       "      <td>2.27</td>\n",
       "      <td>5.03</td>\n",
       "      <td>1.00</td>\n",
       "    </tr>\n",
       "    <tr>\n",
       "      <th>518</th>\n",
       "      <td>Vienna</td>\n",
       "      <td>2023-01-09 06:00:00</td>\n",
       "      <td>moderate rain</td>\n",
       "      <td>5.24</td>\n",
       "      <td>2.02</td>\n",
       "      <td>4.24</td>\n",
       "      <td>1.00</td>\n",
       "    </tr>\n",
       "    <tr>\n",
       "      <th>519</th>\n",
       "      <td>Vienna</td>\n",
       "      <td>2023-01-09 09:00:00</td>\n",
       "      <td>light rain</td>\n",
       "      <td>6.19</td>\n",
       "      <td>3.32</td>\n",
       "      <td>4.00</td>\n",
       "      <td>0.98</td>\n",
       "    </tr>\n",
       "  </tbody>\n",
       "</table>\n",
       "<p>520 rows × 7 columns</p>\n",
       "</div>"
      ],
      "text/plain": [
       "     cities         forcast_time          outlook  temperature  feels_like  \\\n",
       "0    London  2023-01-04 12:00:00       light rain        12.91       12.42   \n",
       "1    London  2023-01-04 15:00:00  overcast clouds        12.45       11.76   \n",
       "2    London  2023-01-04 18:00:00  overcast clouds        10.98       10.17   \n",
       "3    London  2023-01-04 21:00:00  overcast clouds        10.69        9.80   \n",
       "4    London  2023-01-05 00:00:00  overcast clouds        10.92        9.97   \n",
       "..      ...                  ...              ...          ...         ...   \n",
       "515  Vienna  2023-01-08 21:00:00  overcast clouds         5.70        4.89   \n",
       "516  Vienna  2023-01-09 00:00:00       light rain         6.37        5.47   \n",
       "517  Vienna  2023-01-09 03:00:00    moderate rain         5.76        2.27   \n",
       "518  Vienna  2023-01-09 06:00:00    moderate rain         5.24        2.02   \n",
       "519  Vienna  2023-01-09 09:00:00       light rain         6.19        3.32   \n",
       "\n",
       "     wind_speed  rain_prob  \n",
       "0          7.97       0.30  \n",
       "1          7.48       0.00  \n",
       "2          6.71       0.00  \n",
       "3          6.37       0.00  \n",
       "4          6.06       0.00  \n",
       "..          ...        ...  \n",
       "515        1.39       0.00  \n",
       "516        1.53       0.36  \n",
       "517        5.03       1.00  \n",
       "518        4.24       1.00  \n",
       "519        4.00       0.98  \n",
       "\n",
       "[520 rows x 7 columns]"
      ]
     },
     "execution_count": 9,
     "metadata": {},
     "output_type": "execute_result"
    }
   ],
   "source": [
    "cities_weather_df"
   ]
  }
 ],
 "metadata": {
  "kernelspec": {
   "display_name": "Python 3",
   "language": "python",
   "name": "python3"
  },
  "language_info": {
   "codemirror_mode": {
    "name": "ipython",
    "version": 3
   },
   "file_extension": ".py",
   "mimetype": "text/x-python",
   "name": "python",
   "nbconvert_exporter": "python",
   "pygments_lexer": "ipython3",
   "version": "3.9.1"
  },
  "orig_nbformat": 4,
  "vscode": {
   "interpreter": {
    "hash": "81794d4967e6c3204c66dcd87b604927b115b27c00565d3d43f05ba2f3a2cb0d"
   }
  }
 },
 "nbformat": 4,
 "nbformat_minor": 2
}
