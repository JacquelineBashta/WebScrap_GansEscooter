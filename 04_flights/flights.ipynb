{
 "cells": [
  {
   "attachments": {},
   "cell_type": "markdown",
   "metadata": {},
   "source": [
    "## 1.Export"
   ]
  },
  {
   "attachments": {},
   "cell_type": "markdown",
   "metadata": {},
   "source": [
    "###  get airport_T_df"
   ]
  },
  {
   "cell_type": "code",
   "execution_count": 1,
   "metadata": {},
   "outputs": [],
   "source": [
    "import pandas as pd\n",
    "import sqlalchemy\n",
    "sys.path.append('..\\keys')\n",
    "import key\n",
    "\n",
    "schema=\"gans_db\"   # name of the database you want to use here\n",
    "host=\"localhost\"        # to connect to your local server\n",
    "user=\"root\"\n",
    "password=key.SQL_PASSWORD # your password!!!!\n",
    "port=3306\n",
    "con = f'mysql+pymysql://{user}:{password}@{host}:{port}/{schema}'\n",
    "airport_T_df = pd.read_sql_table('airport',con=con)"
   ]
  },
  {
   "cell_type": "code",
   "execution_count": 4,
   "metadata": {},
   "outputs": [
    {
     "data": {
      "text/plain": [
       "0    AZ-0001\n",
       "1       EDDH\n",
       "Name: icao, dtype: object"
      ]
     },
     "execution_count": 4,
     "metadata": {},
     "output_type": "execute_result"
    }
   ],
   "source": [
    "airport_T_df.icao[0:2]"
   ]
  },
  {
   "attachments": {},
   "cell_type": "markdown",
   "metadata": {},
   "source": [
    "### Connect to API and collect Data"
   ]
  },
  {
   "cell_type": "code",
   "execution_count": 9,
   "metadata": {},
   "outputs": [],
   "source": [
    "RERUN_TIME_IN_HOURS = 24\n",
    "FLIGHT_FORCAST_TIMEWINDOW = 12"
   ]
  },
  {
   "cell_type": "code",
   "execution_count": 7,
   "metadata": {},
   "outputs": [],
   "source": [
    "import math\n",
    "from pytz import timezone\n",
    "from datetime import datetime, date, timedelta\n",
    "import requests \n",
    "import json"
   ]
  },
  {
   "cell_type": "code",
   "execution_count": 5,
   "metadata": {},
   "outputs": [],
   "source": [
    "def connect_flight_api(airport_df):\n",
    "    # Prepare URL inputs\n",
    "    today = datetime.now().astimezone(timezone('Europe/Berlin')).date()\n",
    "    rerun_window = math.ceil(RERUN_TIME_IN_HOURS/24) #roundup to bigger integer\n",
    "    next_run = (today + timedelta(days=rerun_window))\n",
    "    times = [[\"00:00\",\"11:59\"],[\"12:00\",\"23:59\"]]\n",
    "    \n",
    "    flight_df_l = []\n",
    "    #Loop over all airports\n",
    "    for icao in airport_df.icao[1:2]:\n",
    "        for time in times:\n",
    "            url = f\"https://aerodatabox.p.rapidapi.com/flights/airports/icao/{icao}/{next_run}T{time[0]}/{next_run}T{time[1]}\"\n",
    "            querystring = {\"withLeg\":\"true\",\"direction\":\"Arrival\",\"withCancelled\":\"false\",\"withCodeshared\":\"true\",\"withCargo\":\"false\",\"withPrivate\":\"false\",\"withLocation\":\"false\"}\n",
    "            headers = {\n",
    "\t\t\t\t\"X-RapidAPI-Key\": f\"{key.Flight_API_key}\",\n",
    "\t\t\t\t\"X-RapidAPI-Host\": \"aerodatabox.p.rapidapi.com\"\n",
    "\t\t\t}\n",
    "            response = requests.request(\"GET\", url, headers=headers, params=querystring)\n",
    "            response.raise_for_status()\n",
    "            flights_12h_json = response.json()\n",
    "            for flight in flights_12h_json[\"arrivals\"]:\n",
    "                flight_dict = {}\n",
    "                flight_dict['arrival_icao']         = icao\n",
    "                flight_dict[\"arrival_time_local\"]   = flight[\"arrival\"].get('scheduledTimeLocal', pd.NaT)\n",
    "                flight_dict[\"arrival_terminal\"]     = flight['arrival'].get('terminal', \"unknown\")\n",
    "                flight_dict[\"departure_city\"]       =  flight[\"departure\"][\"airport\"].get(\"name\", \"unknown\")\n",
    "                flight_dict[\"departure_icao\"]       =  flight[\"departure\"][\"airport\"].get(\"icao\", \"unknown\")\n",
    "                flight_dict[\"departure_time_local\"] = flight[\"departure\"].get(\"scheduledTimeLocal\", pd.NaT)\n",
    "                flight_dict[\"airline\"]              =  flight[\"airline\"].get(\"name\", \"unknown\")\n",
    "                flight_dict[\"flight_number\"]        =  flight.get(\"number\", \"unknown\")\n",
    "                flight_dict[\"data_retrieved_on\"]    =  datetime.now().astimezone(timezone('Europe/Berlin')).date()\n",
    "                flight_df_l.append(flight_dict)\n",
    "    return flight_df_l"
   ]
  },
  {
   "cell_type": "code",
   "execution_count": 10,
   "metadata": {},
   "outputs": [],
   "source": [
    "\t#TODO: Replace with list\n",
    " \n",
    "#airport_id_l = [\"EGBB\",\"EPWA\"]\n",
    "flights_df_l = connect_flight_api(airport_T_df)"
   ]
  },
  {
   "cell_type": "code",
   "execution_count": 11,
   "metadata": {},
   "outputs": [],
   "source": [
    "flight_df = pd.DataFrame(flights_df_l)"
   ]
  },
  {
   "cell_type": "code",
   "execution_count": 12,
   "metadata": {},
   "outputs": [
    {
     "data": {
      "text/plain": [
       "90"
      ]
     },
     "execution_count": 12,
     "metadata": {},
     "output_type": "execute_result"
    }
   ],
   "source": [
    "len(flight_df)"
   ]
  },
  {
   "cell_type": "code",
   "execution_count": 13,
   "metadata": {},
   "outputs": [
    {
     "data": {
      "text/html": [
       "<div>\n",
       "<style scoped>\n",
       "    .dataframe tbody tr th:only-of-type {\n",
       "        vertical-align: middle;\n",
       "    }\n",
       "\n",
       "    .dataframe tbody tr th {\n",
       "        vertical-align: top;\n",
       "    }\n",
       "\n",
       "    .dataframe thead th {\n",
       "        text-align: right;\n",
       "    }\n",
       "</style>\n",
       "<table border=\"1\" class=\"dataframe\">\n",
       "  <thead>\n",
       "    <tr style=\"text-align: right;\">\n",
       "      <th></th>\n",
       "      <th>arrival_icao</th>\n",
       "      <th>arrival_time_local</th>\n",
       "      <th>arrival_terminal</th>\n",
       "      <th>departure_city</th>\n",
       "      <th>departure_icao</th>\n",
       "      <th>departure_time_local</th>\n",
       "      <th>airline</th>\n",
       "      <th>flight_number</th>\n",
       "      <th>data_retrieved_on</th>\n",
       "    </tr>\n",
       "  </thead>\n",
       "  <tbody>\n",
       "    <tr>\n",
       "      <th>0</th>\n",
       "      <td>EDDH</td>\n",
       "      <td>2023-01-10 07:35+01:00</td>\n",
       "      <td>2</td>\n",
       "      <td>Frankfurt-am-Main</td>\n",
       "      <td>EDDF</td>\n",
       "      <td>2023-01-10 06:30+01:00</td>\n",
       "      <td>Lufthansa</td>\n",
       "      <td>LH 2</td>\n",
       "      <td>2023-01-09</td>\n",
       "    </tr>\n",
       "    <tr>\n",
       "      <th>1</th>\n",
       "      <td>EDDH</td>\n",
       "      <td>2023-01-10 07:45+01:00</td>\n",
       "      <td>1</td>\n",
       "      <td>Stuttgart</td>\n",
       "      <td>EDDS</td>\n",
       "      <td>2023-01-10 06:25+01:00</td>\n",
       "      <td>Eurowings</td>\n",
       "      <td>EW 2044</td>\n",
       "      <td>2023-01-09</td>\n",
       "    </tr>\n",
       "    <tr>\n",
       "      <th>2</th>\n",
       "      <td>EDDH</td>\n",
       "      <td>2023-01-10 07:55+01:00</td>\n",
       "      <td>1</td>\n",
       "      <td>Cologne</td>\n",
       "      <td>EDDK</td>\n",
       "      <td>2023-01-10 06:50+01:00</td>\n",
       "      <td>Eurowings</td>\n",
       "      <td>EW 32</td>\n",
       "      <td>2023-01-09</td>\n",
       "    </tr>\n",
       "    <tr>\n",
       "      <th>3</th>\n",
       "      <td>EDDH</td>\n",
       "      <td>2023-01-10 08:00+01:00</td>\n",
       "      <td>1</td>\n",
       "      <td>Duesseldorf</td>\n",
       "      <td>EDDL</td>\n",
       "      <td>2023-01-10 07:00+01:00</td>\n",
       "      <td>Eurowings</td>\n",
       "      <td>EW 9030</td>\n",
       "      <td>2023-01-09</td>\n",
       "    </tr>\n",
       "    <tr>\n",
       "      <th>4</th>\n",
       "      <td>EDDH</td>\n",
       "      <td>2023-01-10 08:00+01:00</td>\n",
       "      <td>2</td>\n",
       "      <td>Munich</td>\n",
       "      <td>EDDM</td>\n",
       "      <td>2023-01-10 06:40+01:00</td>\n",
       "      <td>Lufthansa</td>\n",
       "      <td>LH 2050</td>\n",
       "      <td>2023-01-09</td>\n",
       "    </tr>\n",
       "    <tr>\n",
       "      <th>...</th>\n",
       "      <td>...</td>\n",
       "      <td>...</td>\n",
       "      <td>...</td>\n",
       "      <td>...</td>\n",
       "      <td>...</td>\n",
       "      <td>...</td>\n",
       "      <td>...</td>\n",
       "      <td>...</td>\n",
       "      <td>...</td>\n",
       "    </tr>\n",
       "    <tr>\n",
       "      <th>85</th>\n",
       "      <td>EDDH</td>\n",
       "      <td>2023-01-10 22:30+01:00</td>\n",
       "      <td>1</td>\n",
       "      <td>Munich</td>\n",
       "      <td>EDDM</td>\n",
       "      <td>2023-01-10 21:00+01:00</td>\n",
       "      <td>Eurowings</td>\n",
       "      <td>EW 7177</td>\n",
       "      <td>2023-01-09</td>\n",
       "    </tr>\n",
       "    <tr>\n",
       "      <th>86</th>\n",
       "      <td>EDDH</td>\n",
       "      <td>2023-01-10 22:35+01:00</td>\n",
       "      <td>2</td>\n",
       "      <td>Munich</td>\n",
       "      <td>EDDM</td>\n",
       "      <td>2023-01-10 21:15+01:00</td>\n",
       "      <td>Lufthansa</td>\n",
       "      <td>LH 2088</td>\n",
       "      <td>2023-01-09</td>\n",
       "    </tr>\n",
       "    <tr>\n",
       "      <th>87</th>\n",
       "      <td>EDDH</td>\n",
       "      <td>2023-01-10 22:35+01:00</td>\n",
       "      <td>2</td>\n",
       "      <td>Frankfurt-am-Main</td>\n",
       "      <td>EDDF</td>\n",
       "      <td>2023-01-10 21:30+01:00</td>\n",
       "      <td>Lufthansa</td>\n",
       "      <td>LH 36</td>\n",
       "      <td>2023-01-09</td>\n",
       "    </tr>\n",
       "    <tr>\n",
       "      <th>88</th>\n",
       "      <td>EDDH</td>\n",
       "      <td>2023-01-10 18:45+01:00</td>\n",
       "      <td>2</td>\n",
       "      <td>Copenhagen</td>\n",
       "      <td>EKCH</td>\n",
       "      <td>2023-01-10 17:45+01:00</td>\n",
       "      <td>SAS</td>\n",
       "      <td>SK 651</td>\n",
       "      <td>2023-01-09</td>\n",
       "    </tr>\n",
       "    <tr>\n",
       "      <th>89</th>\n",
       "      <td>EDDH</td>\n",
       "      <td>2023-01-10 18:10+01:00</td>\n",
       "      <td>1</td>\n",
       "      <td>Cologne</td>\n",
       "      <td>EDDK</td>\n",
       "      <td>2023-01-10 17:05+01:00</td>\n",
       "      <td>Eurowings</td>\n",
       "      <td>EW 7033</td>\n",
       "      <td>2023-01-09</td>\n",
       "    </tr>\n",
       "  </tbody>\n",
       "</table>\n",
       "<p>90 rows × 9 columns</p>\n",
       "</div>"
      ],
      "text/plain": [
       "   arrival_icao      arrival_time_local arrival_terminal     departure_city  \\\n",
       "0          EDDH  2023-01-10 07:35+01:00                2  Frankfurt-am-Main   \n",
       "1          EDDH  2023-01-10 07:45+01:00                1          Stuttgart   \n",
       "2          EDDH  2023-01-10 07:55+01:00                1            Cologne   \n",
       "3          EDDH  2023-01-10 08:00+01:00                1        Duesseldorf   \n",
       "4          EDDH  2023-01-10 08:00+01:00                2             Munich   \n",
       "..          ...                     ...              ...                ...   \n",
       "85         EDDH  2023-01-10 22:30+01:00                1             Munich   \n",
       "86         EDDH  2023-01-10 22:35+01:00                2             Munich   \n",
       "87         EDDH  2023-01-10 22:35+01:00                2  Frankfurt-am-Main   \n",
       "88         EDDH  2023-01-10 18:45+01:00                2         Copenhagen   \n",
       "89         EDDH  2023-01-10 18:10+01:00                1            Cologne   \n",
       "\n",
       "   departure_icao    departure_time_local    airline flight_number  \\\n",
       "0            EDDF  2023-01-10 06:30+01:00  Lufthansa          LH 2   \n",
       "1            EDDS  2023-01-10 06:25+01:00  Eurowings       EW 2044   \n",
       "2            EDDK  2023-01-10 06:50+01:00  Eurowings         EW 32   \n",
       "3            EDDL  2023-01-10 07:00+01:00  Eurowings       EW 9030   \n",
       "4            EDDM  2023-01-10 06:40+01:00  Lufthansa       LH 2050   \n",
       "..            ...                     ...        ...           ...   \n",
       "85           EDDM  2023-01-10 21:00+01:00  Eurowings       EW 7177   \n",
       "86           EDDM  2023-01-10 21:15+01:00  Lufthansa       LH 2088   \n",
       "87           EDDF  2023-01-10 21:30+01:00  Lufthansa         LH 36   \n",
       "88           EKCH  2023-01-10 17:45+01:00        SAS        SK 651   \n",
       "89           EDDK  2023-01-10 17:05+01:00  Eurowings       EW 7033   \n",
       "\n",
       "   data_retrieved_on  \n",
       "0         2023-01-09  \n",
       "1         2023-01-09  \n",
       "2         2023-01-09  \n",
       "3         2023-01-09  \n",
       "4         2023-01-09  \n",
       "..               ...  \n",
       "85        2023-01-09  \n",
       "86        2023-01-09  \n",
       "87        2023-01-09  \n",
       "88        2023-01-09  \n",
       "89        2023-01-09  \n",
       "\n",
       "[90 rows x 9 columns]"
      ]
     },
     "execution_count": 13,
     "metadata": {},
     "output_type": "execute_result"
    }
   ],
   "source": [
    "flight_df"
   ]
  },
  {
   "cell_type": "code",
   "execution_count": 14,
   "metadata": {},
   "outputs": [
    {
     "data": {
      "text/plain": [
       "array(['unknown'], dtype=object)"
      ]
     },
     "execution_count": 14,
     "metadata": {},
     "output_type": "execute_result"
    }
   ],
   "source": [
    "flight_df.arrival_terminal.unique()"
   ]
  },
  {
   "attachments": {},
   "cell_type": "markdown",
   "metadata": {},
   "source": [
    "## Transform"
   ]
  },
  {
   "attachments": {},
   "cell_type": "markdown",
   "metadata": {},
   "source": [
    "### change timestamp type"
   ]
  },
  {
   "cell_type": "code",
   "execution_count": 27,
   "metadata": {},
   "outputs": [
    {
     "name": "stdout",
     "output_type": "stream",
     "text": [
      "<class 'pandas.core.frame.DataFrame'>\n",
      "RangeIndex: 286 entries, 0 to 285\n",
      "Data columns (total 9 columns):\n",
      " #   Column                Non-Null Count  Dtype              \n",
      "---  ------                --------------  -----              \n",
      " 0   arrival_icao          286 non-null    object             \n",
      " 1   arrival_time_local    286 non-null    datetime64[ns, UTC]\n",
      " 2   arrival_terminal      286 non-null    object             \n",
      " 3   departure_city        286 non-null    object             \n",
      " 4   departure_icao        286 non-null    object             \n",
      " 5   departure_time_local  246 non-null    datetime64[ns, UTC]\n",
      " 6   airline               286 non-null    object             \n",
      " 7   flight_number         286 non-null    object             \n",
      " 8   data_retrieved_on     286 non-null    datetime64[ns]     \n",
      "dtypes: datetime64[ns, UTC](2), datetime64[ns](1), object(6)\n",
      "memory usage: 20.2+ KB\n"
     ]
    }
   ],
   "source": [
    "flight_df.info()"
   ]
  },
  {
   "cell_type": "code",
   "execution_count": 23,
   "metadata": {},
   "outputs": [],
   "source": [
    "flight_df.arrival_time_local = pd.to_datetime(flight_df.arrival_time_local,utc=True)"
   ]
  },
  {
   "cell_type": "code",
   "execution_count": 17,
   "metadata": {},
   "outputs": [],
   "source": [
    "flight_df.data_retrieved_on = pd.to_datetime(flight_df.data_retrieved_on)"
   ]
  },
  {
   "cell_type": "code",
   "execution_count": 19,
   "metadata": {},
   "outputs": [
    {
     "data": {
      "text/html": [
       "<div>\n",
       "<style scoped>\n",
       "    .dataframe tbody tr th:only-of-type {\n",
       "        vertical-align: middle;\n",
       "    }\n",
       "\n",
       "    .dataframe tbody tr th {\n",
       "        vertical-align: top;\n",
       "    }\n",
       "\n",
       "    .dataframe thead th {\n",
       "        text-align: right;\n",
       "    }\n",
       "</style>\n",
       "<table border=\"1\" class=\"dataframe\">\n",
       "  <thead>\n",
       "    <tr style=\"text-align: right;\">\n",
       "      <th></th>\n",
       "      <th>arrival_icao</th>\n",
       "      <th>arrival_time_local</th>\n",
       "      <th>arrival_terminal</th>\n",
       "      <th>departure_city</th>\n",
       "      <th>departure_icao</th>\n",
       "      <th>departure_time_local</th>\n",
       "      <th>airline</th>\n",
       "      <th>flight_number</th>\n",
       "      <th>data_retrieved_on</th>\n",
       "    </tr>\n",
       "  </thead>\n",
       "  <tbody>\n",
       "  </tbody>\n",
       "</table>\n",
       "</div>"
      ],
      "text/plain": [
       "Empty DataFrame\n",
       "Columns: [arrival_icao, arrival_time_local, arrival_terminal, departure_city, departure_icao, departure_time_local, airline, flight_number, data_retrieved_on]\n",
       "Index: []"
      ]
     },
     "execution_count": 19,
     "metadata": {},
     "output_type": "execute_result"
    }
   ],
   "source": [
    "flight_df.loc[flight_df.departure_time_local == pd.NaT]"
   ]
  },
  {
   "cell_type": "code",
   "execution_count": 26,
   "metadata": {},
   "outputs": [],
   "source": [
    "flight_df.departure_time_local = pd.to_datetime(flight_df.departure_time_local,utc=True)"
   ]
  },
  {
   "cell_type": "code",
   "execution_count": 20,
   "metadata": {},
   "outputs": [
    {
     "data": {
      "text/plain": [
       "110    2023-01-07 20:15:00+00:00\n",
       "233    2023-01-07 15:35:00+03:00\n",
       "54                           NaT\n",
       "162    2023-01-07 08:05:00+04:00\n",
       "135    2023-01-07 07:00:00+03:00\n",
       "140    2023-01-07 08:10:00+03:00\n",
       "227    2023-01-07 14:35:00+01:00\n",
       "49                           NaT\n",
       "97     2023-01-07 17:20:00+01:00\n",
       "257    2023-01-07 19:30:00+01:00\n",
       "Name: departure_time_local, dtype: object"
      ]
     },
     "execution_count": 20,
     "metadata": {},
     "output_type": "execute_result"
    }
   ],
   "source": [
    "flight_df.departure_time_local.sample(10)"
   ]
  },
  {
   "attachments": {},
   "cell_type": "markdown",
   "metadata": {},
   "source": [
    "## 3.Load"
   ]
  },
  {
   "attachments": {},
   "cell_type": "markdown",
   "metadata": {},
   "source": [
    "### load the flight info to Local MySQL"
   ]
  },
  {
   "cell_type": "code",
   "execution_count": 28,
   "metadata": {},
   "outputs": [
    {
     "data": {
      "text/plain": [
       "286"
      ]
     },
     "execution_count": 28,
     "metadata": {},
     "output_type": "execute_result"
    },
    {
     "ename": "",
     "evalue": "",
     "output_type": "error",
     "traceback": [
      "\u001b[1;31mThe Kernel crashed while executing code in the the current cell or a previous cell. Please review the code in the cell(s) to identify a possible cause of the failure. Click <a href='https://aka.ms/vscodeJupyterKernelCrash'>here</a> for more info. View Jupyter <a href='command:jupyter.viewOutput'>log</a> for further details."
     ]
    }
   ],
   "source": [
    "flight_df.to_sql('flight',con=con,if_exists='append',index=False)"
   ]
  },
  {
   "attachments": {},
   "cell_type": "markdown",
   "metadata": {},
   "source": [
    "### load the flight info to AWS MySQL"
   ]
  },
  {
   "cell_type": "code",
   "execution_count": null,
   "metadata": {},
   "outputs": [],
   "source": [
    "schema=\"gans_db\"   # name of the database you want to use here\n",
    "host=\"localhost\"        # to connect to your local server\n",
    "user=\"root\"\n",
    "password=key.SQL_PASSWORD # your password!!!!\n",
    "port=3306\n",
    "con = f'mysql+pymysql://{user}:{password}@{host}:{port}/{schema}'\n",
    "airport_T_df = pd.read_sql_table('airport',con=con)"
   ]
  }
 ],
 "metadata": {
  "kernelspec": {
   "display_name": "Python 3",
   "language": "python",
   "name": "python3"
  },
  "language_info": {
   "codemirror_mode": {
    "name": "ipython",
    "version": 3
   },
   "file_extension": ".py",
   "mimetype": "text/x-python",
   "name": "python",
   "nbconvert_exporter": "python",
   "pygments_lexer": "ipython3",
   "version": "3.9.1 (tags/v3.9.1:1e5d33e, Dec  7 2020, 17:08:21) [MSC v.1927 64 bit (AMD64)]"
  },
  "orig_nbformat": 4,
  "vscode": {
   "interpreter": {
    "hash": "81794d4967e6c3204c66dcd87b604927b115b27c00565d3d43f05ba2f3a2cb0d"
   }
  }
 },
 "nbformat": 4,
 "nbformat_minor": 2
}
