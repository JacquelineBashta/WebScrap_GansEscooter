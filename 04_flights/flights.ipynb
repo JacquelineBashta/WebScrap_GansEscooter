{
 "cells": [
  {
   "attachments": {},
   "cell_type": "markdown",
   "metadata": {},
   "source": [
    "## Import required df"
   ]
  },
  {
   "cell_type": "code",
   "execution_count": 32,
   "metadata": {},
   "outputs": [],
   "source": [
    "import pandas as pd"
   ]
  },
  {
   "cell_type": "code",
   "execution_count": 33,
   "metadata": {},
   "outputs": [],
   "source": [
    "airport_df = pd.read_pickle(\"../03_airports/airports.pkl\")"
   ]
  },
  {
   "cell_type": "code",
   "execution_count": 34,
   "metadata": {},
   "outputs": [
    {
     "data": {
      "text/html": [
       "<div>\n",
       "<style scoped>\n",
       "    .dataframe tbody tr th:only-of-type {\n",
       "        vertical-align: middle;\n",
       "    }\n",
       "\n",
       "    .dataframe tbody tr th {\n",
       "        vertical-align: top;\n",
       "    }\n",
       "\n",
       "    .dataframe thead th {\n",
       "        text-align: right;\n",
       "    }\n",
       "</style>\n",
       "<table border=\"1\" class=\"dataframe\">\n",
       "  <thead>\n",
       "    <tr style=\"text-align: right;\">\n",
       "      <th></th>\n",
       "      <th>city_id</th>\n",
       "      <th>ident</th>\n",
       "    </tr>\n",
       "  </thead>\n",
       "  <tbody>\n",
       "    <tr>\n",
       "      <th>0</th>\n",
       "      <td>2</td>\n",
       "      <td>EDDB</td>\n",
       "    </tr>\n",
       "    <tr>\n",
       "      <th>1</th>\n",
       "      <td>0</td>\n",
       "      <td>EGKB</td>\n",
       "    </tr>\n",
       "    <tr>\n",
       "      <th>2</th>\n",
       "      <td>0</td>\n",
       "      <td>EGLC</td>\n",
       "    </tr>\n",
       "    <tr>\n",
       "      <th>3</th>\n",
       "      <td>0</td>\n",
       "      <td>EGLL</td>\n",
       "    </tr>\n",
       "    <tr>\n",
       "      <th>4</th>\n",
       "      <td>0</td>\n",
       "      <td>EGWU</td>\n",
       "    </tr>\n",
       "    <tr>\n",
       "      <th>5</th>\n",
       "      <td>5</td>\n",
       "      <td>LEBL</td>\n",
       "    </tr>\n",
       "    <tr>\n",
       "      <th>6</th>\n",
       "      <td>7</td>\n",
       "      <td>LECU</td>\n",
       "    </tr>\n",
       "    <tr>\n",
       "      <th>7</th>\n",
       "      <td>7</td>\n",
       "      <td>LEGT</td>\n",
       "    </tr>\n",
       "    <tr>\n",
       "      <th>8</th>\n",
       "      <td>7</td>\n",
       "      <td>LEMD</td>\n",
       "    </tr>\n",
       "    <tr>\n",
       "      <th>9</th>\n",
       "      <td>7</td>\n",
       "      <td>LETO</td>\n",
       "    </tr>\n",
       "    <tr>\n",
       "      <th>10</th>\n",
       "      <td>1</td>\n",
       "      <td>LFPB</td>\n",
       "    </tr>\n",
       "    <tr>\n",
       "      <th>11</th>\n",
       "      <td>1</td>\n",
       "      <td>LFPG</td>\n",
       "    </tr>\n",
       "    <tr>\n",
       "      <th>12</th>\n",
       "      <td>1</td>\n",
       "      <td>LFPN</td>\n",
       "    </tr>\n",
       "    <tr>\n",
       "      <th>13</th>\n",
       "      <td>1</td>\n",
       "      <td>LFPO</td>\n",
       "    </tr>\n",
       "    <tr>\n",
       "      <th>14</th>\n",
       "      <td>1</td>\n",
       "      <td>LFPV</td>\n",
       "    </tr>\n",
       "    <tr>\n",
       "      <th>15</th>\n",
       "      <td>9</td>\n",
       "      <td>LIRA</td>\n",
       "    </tr>\n",
       "    <tr>\n",
       "      <th>16</th>\n",
       "      <td>9</td>\n",
       "      <td>LIRF</td>\n",
       "    </tr>\n",
       "    <tr>\n",
       "      <th>17</th>\n",
       "      <td>9</td>\n",
       "      <td>LIRG</td>\n",
       "    </tr>\n",
       "    <tr>\n",
       "      <th>18</th>\n",
       "      <td>9</td>\n",
       "      <td>LIRU</td>\n",
       "    </tr>\n",
       "    <tr>\n",
       "      <th>19</th>\n",
       "      <td>12</td>\n",
       "      <td>LOWW</td>\n",
       "    </tr>\n",
       "    <tr>\n",
       "      <th>20</th>\n",
       "      <td>10</td>\n",
       "      <td>LRBS</td>\n",
       "    </tr>\n",
       "    <tr>\n",
       "      <th>21</th>\n",
       "      <td>10</td>\n",
       "      <td>LROP</td>\n",
       "    </tr>\n",
       "    <tr>\n",
       "      <th>22</th>\n",
       "      <td>4</td>\n",
       "      <td>LTBA</td>\n",
       "    </tr>\n",
       "    <tr>\n",
       "      <th>23</th>\n",
       "      <td>4</td>\n",
       "      <td>LTBX</td>\n",
       "    </tr>\n",
       "    <tr>\n",
       "      <th>24</th>\n",
       "      <td>6</td>\n",
       "      <td>RU-0001</td>\n",
       "    </tr>\n",
       "    <tr>\n",
       "      <th>25</th>\n",
       "      <td>8</td>\n",
       "      <td>UKKK</td>\n",
       "    </tr>\n",
       "    <tr>\n",
       "      <th>26</th>\n",
       "      <td>6</td>\n",
       "      <td>ULLI</td>\n",
       "    </tr>\n",
       "  </tbody>\n",
       "</table>\n",
       "</div>"
      ],
      "text/plain": [
       "    city_id    ident\n",
       "0         2     EDDB\n",
       "1         0     EGKB\n",
       "2         0     EGLC\n",
       "3         0     EGLL\n",
       "4         0     EGWU\n",
       "5         5     LEBL\n",
       "6         7     LECU\n",
       "7         7     LEGT\n",
       "8         7     LEMD\n",
       "9         7     LETO\n",
       "10        1     LFPB\n",
       "11        1     LFPG\n",
       "12        1     LFPN\n",
       "13        1     LFPO\n",
       "14        1     LFPV\n",
       "15        9     LIRA\n",
       "16        9     LIRF\n",
       "17        9     LIRG\n",
       "18        9     LIRU\n",
       "19       12     LOWW\n",
       "20       10     LRBS\n",
       "21       10     LROP\n",
       "22        4     LTBA\n",
       "23        4     LTBX\n",
       "24        6  RU-0001\n",
       "25        8     UKKK\n",
       "26        6     ULLI"
      ]
     },
     "execution_count": 34,
     "metadata": {},
     "output_type": "execute_result"
    }
   ],
   "source": [
    "airport_df"
   ]
  },
  {
   "attachments": {},
   "cell_type": "markdown",
   "metadata": {},
   "source": [
    "## Connect to API"
   ]
  },
  {
   "cell_type": "code",
   "execution_count": 35,
   "metadata": {},
   "outputs": [
    {
     "data": {
      "text/plain": [
       "datetime.date(2023, 1, 6)"
      ]
     },
     "execution_count": 35,
     "metadata": {},
     "output_type": "execute_result"
    }
   ],
   "source": [
    "from pytz import timezone\n",
    "from datetime import datetime, date, timedelta\n",
    "\n",
    "today = datetime.now().astimezone(timezone('Europe/Berlin')).date()\n",
    "tomorrow = (today + timedelta(days=1))\n",
    "tomorrow"
   ]
  },
  {
   "cell_type": "code",
   "execution_count": 36,
   "metadata": {},
   "outputs": [],
   "source": [
    "import requests\n",
    "from api_key import Flight_API_key \n",
    "\n",
    "#TODO: Replace with list\n",
    "airport_id = \"EGLC\"\n",
    "times = [[\"00:00\",\"11:59\"],[\"12:00\",\"23:59\"]]\n",
    "\n",
    "responses =[]\n",
    "for time in times:\n",
    "\turl = f\"https://aerodatabox.p.rapidapi.com/flights/airports/icao/{airport_id}/{tomorrow}T{time[0]}/{tomorrow}T{time[1]}\"\n",
    " \n",
    "\tquerystring = {\"withLeg\":\"true\",\"direction\":\"Arrival\",\"withCancelled\":\"false\",\"withCodeshared\":\"true\",\"withCargo\":\"false\",\"withPrivate\":\"false\",\"withLocation\":\"false\"}\n",
    "\n",
    "\theaders = {\n",
    "\t\t\"X-RapidAPI-Key\": f\"{Flight_API_key}\",\n",
    "\t\t\"X-RapidAPI-Host\": \"aerodatabox.p.rapidapi.com\"\n",
    "\t}\n",
    "\tresponses.append(requests.request(\"GET\", url, headers=headers, params=querystring))\n",
    " "
   ]
  },
  {
   "cell_type": "code",
   "execution_count": 37,
   "metadata": {},
   "outputs": [],
   "source": [
    "import json"
   ]
  },
  {
   "cell_type": "code",
   "execution_count": 43,
   "metadata": {},
   "outputs": [
    {
     "name": "stdout",
     "output_type": "stream",
     "text": [
      "{\"arrivals\": [{\"departure\": {\"airport\": {\"icao\": \"EHRD\", \"iata\": \"RTM\", \"name\": \"Rotterdam\"}, \"scheduledTimeLocal\": \"2023-01-06 07:05+01:00\", \"actualTimeLocal\": \"2023-01-06 07:05+01:00\", \"scheduledTimeUtc\": \"2023-01-06 06:05Z\", \"actualTimeUtc\": \"2023-01-06 06:05Z\", \"quality\": [\"Basic\", \"Live\"]}, \"arrival\": {\"scheduledTimeLocal\": \"2023-01-06 07:00+00:00\", \"scheduledTimeUtc\": \"2023-01-06 07:00Z\", \"quality\": [\"Basic\"]}, \"number\": \"BA 4450\", \"status\": \"Unknown\", \"codeshareStatus\": \"IsCodeshared\", \"isCargo\": false, \"aircraft\": {\"model\": \"Embraer 190\"}, \"airline\": {\"name\": \"British Airways\"}}, {\"departure\": {\"airport\": {\"icao\": \"ELLX\", \"iata\": \"LUX\", \"name\": \"Luxembourg\"}, \"scheduledTimeLocal\": \"2023-01-06 06:45+01:00\", \"actualTimeLocal\": \"2023-01-06 06:45+01:00\", \"scheduledTimeUtc\": \"2023-01-06 05:45Z\", \"actualTimeUtc\": \"2023-01-06 05:45Z\", \"quality\": [\"Basic\", \"Live\"]}, \"arrival\": {\"scheduledTimeLocal\": \"2023-01-06 07:05+00:00\", \"scheduledTimeUtc\": \"2023-01-06 07:05Z\", \"quality\": [\"Basic\"]}, \"number\": \"LG 4591\", \"status\": \"Unknown\", \"codeshareStatus\": \"IsOperator\", \"isCargo\": false, \"aircraft\": {\"model\": \"Bombardier Dash 8 Q400 / DHC-8-400\"}, \"airline\": {\"name\": \"Luxair\"}}, {\"departure\": {\"airport\": {\"icao\": \"EHAM\", \"iata\": \"AMS\", \"name\": \"Amsterdam\"}, \"scheduledTimeLocal\": \"2023-01-06 07:05+01:00\", \"actualTimeLocal\": \"2023-01-06 07:05+01:00\", \"scheduledTimeUtc\": \"2023-01-06 06:05Z\", \"actualTimeUtc\": \"2023-01-06 06:05Z\", \"terminal\": \"2\", \"checkInDesk\": \"9-16\", \"quality\": [\"Basic\", \"Live\"]}, \"arrival\": {\"scheduledTimeLocal\": \"2023-01-06 07:15+00:00\", \"scheduledTimeUtc\": \"2023-01-06 07:15Z\", \"quality\": [\"Basic\"]}, \"number\": \"KL 981\", \"status\": \"Unknown\", \"codeshareStatus\": \"IsOperator\", \"isCargo\": false, \"aircraft\": {\"model\": \"Embraer 190\"}, \"airline\": {\"name\": \"KLM\"}}, {\"departure\": {\"airport\": {\"icao\": \"LSZH\", \"iata\": \"ZRH\", \"name\": \"Zurich\"}, \"scheduledTimeLocal\": \"2023-01-06 06:50+01:00\", \"actualTimeLocal\": \"2023-01-06 06:50+01:00\", \"scheduledTimeUtc\": \"2023-01-06 05:50Z\", \"actualTimeUtc\": \"2023-01-06 05:50Z\", \"checkInDesk\": \"1\", \"quality\": [\"Basic\", \"Live\"]}, \"arrival\": {\"scheduledTimeLocal\": \"2023-01-06 07:30+00:00\", \"scheduledTimeUtc\": \"2023-01-06 07:30Z\", \"quality\": [\"Basic\"]}, \"number\": \"LX 450\", \"status\": \"Unknown\", \"codeshareStatus\": \"IsOperator\", \"isCargo\": false, \"aircraft\": {\"model\": \"Embraer Erj-190 E2\"}, \"airline\": {\"name\": \"SWISS\"}}, {\"departure\": {\"airport\": {\"icao\": \"EDDF\", \"iata\": \"FRA\", \"name\": \"Frankfurt-am-Main\"}, \"scheduledTimeLocal\": \"2023-01-06 07:10+01:00\", \"actualTimeLocal\": \"2023-01-06 07:10+01:00\", \"scheduledTimeUtc\": \"2023-01-06 06:10Z\", \"actualTimeUtc\": \"2023-01-06 06:10Z\", \"terminal\": \"1\", \"quality\": [\"Basic\", \"Live\"]}, \"arrival\": {\"scheduledTimeLocal\": \"2023-01-06 07:35+00:00\", \"scheduledTimeUtc\": \"2023-01-06 07:35Z\", \"quality\": [\"Basic\"]}, \"number\": \"LH 926\", \"status\": \"Unknown\", \"codeshareStatus\": \"IsOperator\", \"isCargo\": false, \"aircraft\": {\"model\": \"Embraer 190\"}, \"airline\": {\"name\": \"Lufthansa\"}}, {\"departure\": {\"airport\": {\"icao\": \"EDDB\", \"iata\": \"BER\", \"name\": \"Berlin\"}, \"scheduledTimeLocal\": \"2023-01-06 06:55+01:00\", \"scheduledTimeUtc\": \"2023-01-06 05:55Z\", \"terminal\": \"1\", \"quality\": [\"Basic\"]}, \"arrival\": {\"scheduledTimeLocal\": \"2023-01-06 07:50+00:00\", \"scheduledTimeUtc\": \"2023-01-06 07:50Z\", \"quality\": [\"Basic\"]}, \"number\": \"BA 8490\", \"status\": \"Unknown\", \"codeshareStatus\": \"IsCodeshared\", \"isCargo\": false, \"aircraft\": {\"model\": \"Embraer 190\"}, \"airline\": {\"name\": \"British Airways\"}}, {\"departure\": {\"airport\": {\"icao\": \"LIML\", \"iata\": \"LIN\", \"name\": \"Milan\"}, \"scheduledTimeLocal\": \"2023-01-06 07:00+01:00\", \"scheduledTimeUtc\": \"2023-01-06 06:00Z\", \"quality\": [\"Basic\"]}, \"arrival\": {\"scheduledTimeLocal\": \"2023-01-06 07:55+00:00\", \"scheduledTimeUtc\": \"2023-01-06 07:55Z\", \"quality\": [\"Basic\"]}, \"number\": \"AZ 218\", \"status\": \"Unknown\", \"codeshareStatus\": \"IsOperator\", \"isCargo\": false, \"aircraft\": {\"model\": \"Embraer 190\"}, \"airline\": {\"name\": \"Alitalia\"}}, {\"departure\": {\"airport\": {\"icao\": \"LSGG\", \"iata\": \"GVA\", \"name\": \"Geneva\"}, \"scheduledTimeLocal\": \"2023-01-06 07:20+01:00\", \"scheduledTimeUtc\": \"2023-01-06 06:20Z\", \"terminal\": \"1\", \"quality\": [\"Basic\"]}, \"arrival\": {\"scheduledTimeLocal\": \"2023-01-06 08:00+00:00\", \"scheduledTimeUtc\": \"2023-01-06 08:00Z\", \"quality\": [\"Basic\"]}, \"number\": \"LX 442\", \"status\": \"Unknown\", \"codeshareStatus\": \"IsOperator\", \"isCargo\": false, \"aircraft\": {\"model\": \"Airbus A220-100\"}, \"airline\": {\"name\": \"SWISS\"}}, {\"departure\": {\"airport\": {\"icao\": \"EGPF\", \"iata\": \"GLA\", \"name\": \"Glasgow\"}, \"scheduledTimeLocal\": \"2023-01-06 06:30+00:00\", \"scheduledTimeUtc\": \"2023-01-06 06:30Z\", \"terminal\": \"M\", \"quality\": [\"Basic\"]}, \"arrival\": {\"scheduledTimeLocal\": \"2023-01-06 08:05+00:00\", \"scheduledTimeUtc\": \"2023-01-06 08:05Z\", \"quality\": [\"Basic\"]}, \"number\": \"BA 8721\", \"status\": \"Unknown\", \"codeshareStatus\": \"IsCodeshared\", \"isCargo\": false, \"aircraft\": {\"model\": \"Embraer 190\"}, \"airline\": {\"name\": \"British Airways\"}}, {\"departure\": {\"airport\": {\"icao\": \"EHAM\", \"iata\": \"AMS\", \"name\": \"Amsterdam\"}, \"scheduledTimeLocal\": \"2023-01-06 08:05+01:00\", \"actualTimeLocal\": \"2023-01-06 08:05+01:00\", \"scheduledTimeUtc\": \"2023-01-06 07:05Z\", \"actualTimeUtc\": \"2023-01-06 07:05Z\", \"terminal\": \"2\", \"checkInDesk\": \"9-16\", \"quality\": [\"Basic\", \"Live\"]}, \"arrival\": {\"scheduledTimeLocal\": \"2023-01-06 08:10+00:00\", \"scheduledTimeUtc\": \"2023-01-06 08:10Z\", \"quality\": [\"Basic\"]}, \"number\": \"KL 985\", \"status\": \"Unknown\", \"codeshareStatus\": \"IsOperator\", \"isCargo\": false, \"aircraft\": {\"model\": \"Embraer 190\"}, \"airline\": {\"name\": \"KLM\"}}, {\"departure\": {\"airport\": {\"icao\": \"EGPH\", \"iata\": \"EDI\", \"name\": \"Edinburgh\"}, \"scheduledTimeLocal\": \"2023-01-06 06:40+00:00\", \"scheduledTimeUtc\": \"2023-01-06 06:40Z\", \"quality\": [\"Basic\"]}, \"arrival\": {\"scheduledTimeLocal\": \"2023-01-06 08:15+00:00\", \"scheduledTimeUtc\": \"2023-01-06 08:15Z\", \"quality\": [\"Basic\"]}, \"number\": \"BA 8701\", \"status\": \"Unknown\", \"codeshareStatus\": \"Unknown\", \"isCargo\": false, \"aircraft\": {\"model\": \"Embraer 190\"}, \"airline\": {\"name\": \"British Airways\"}}, {\"departure\": {\"airport\": {\"icao\": \"EGAC\", \"iata\": \"BHD\", \"name\": \"Belfast\"}, \"scheduledTimeLocal\": \"2023-01-06 06:40+00:00\", \"scheduledTimeUtc\": \"2023-01-06 06:40Z\", \"quality\": [\"Basic\"]}, \"arrival\": {\"scheduledTimeLocal\": \"2023-01-06 08:15+00:00\", \"scheduledTimeUtc\": \"2023-01-06 08:15Z\", \"quality\": [\"Basic\"]}, \"number\": \"BA 8751\", \"status\": \"Unknown\", \"codeshareStatus\": \"IsCodeshared\", \"isCargo\": false, \"aircraft\": {\"model\": \"Embraer 190\"}, \"airline\": {\"name\": \"British Airways\"}}, {\"departure\": {\"airport\": {\"icao\": \"EIDW\", \"iata\": \"DUB\", \"name\": \"Dublin\"}, \"scheduledTimeLocal\": \"2023-01-06 07:00+00:00\", \"actualTimeLocal\": \"2023-01-06 07:00+00:00\", \"scheduledTimeUtc\": \"2023-01-06 07:00Z\", \"actualTimeUtc\": \"2023-01-06 07:00Z\", \"terminal\": \"1\", \"checkInDesk\": \"405-409\", \"gate\": \"207\", \"quality\": [\"Basic\", \"Live\"]}, \"arrival\": {\"scheduledTimeLocal\": \"2023-01-06 08:35+00:00\", \"scheduledTimeUtc\": \"2023-01-06 08:35Z\", \"quality\": [\"Basic\"]}, \"number\": \"BA 4461\", \"status\": \"Unknown\", \"codeshareStatus\": \"IsCodeshared\", \"isCargo\": false, \"aircraft\": {\"model\": \"Embraer 190\"}, \"airline\": {\"name\": \"British Airways\"}}, {\"departure\": {\"airport\": {\"name\": \"Edinburgh\"}, \"quality\": []}, \"arrival\": {\"scheduledTimeLocal\": \"2023-01-06 08:35+00:00\", \"scheduledTimeUtc\": \"2023-01-06 08:35Z\", \"quality\": [\"Basic\"]}, \"number\": \"BA 8711\", \"status\": \"Unknown\", \"codeshareStatus\": \"IsCodeshared\", \"isCargo\": false, \"aircraft\": {\"model\": \"Embraer 190\"}, \"airline\": {\"name\": \"British Airways\"}}, {\"departure\": {\"airport\": {\"icao\": \"EHAM\", \"iata\": \"AMS\", \"name\": \"Amsterdam\"}, \"scheduledTimeLocal\": \"2023-01-06 08:40+01:00\", \"actualTimeLocal\": \"2023-01-06 08:40+01:00\", \"scheduledTimeUtc\": \"2023-01-06 07:40Z\", \"actualTimeUtc\": \"2023-01-06 07:40Z\", \"terminal\": \"2\", \"checkInDesk\": \"9-16\", \"quality\": [\"Basic\", \"Live\"]}, \"arrival\": {\"scheduledTimeLocal\": \"2023-01-06 08:50+00:00\", \"scheduledTimeUtc\": \"2023-01-06 08:50Z\", \"quality\": [\"Basic\"]}, \"number\": \"KL 983\", \"status\": \"Unknown\", \"codeshareStatus\": \"IsOperator\", \"isCargo\": false, \"aircraft\": {\"model\": \"Embraer 190\"}, \"airline\": {\"name\": \"KLM\"}}, {\"departure\": {\"airport\": {\"name\": \"Edinburgh\"}, \"quality\": []}, \"arrival\": {\"scheduledTimeLocal\": \"2023-01-06 09:05+00:00\", \"scheduledTimeUtc\": \"2023-01-06 09:05Z\", \"quality\": [\"Basic\"]}, \"number\": \"BA 8713\", \"status\": \"Unknown\", \"codeshareStatus\": \"IsCodeshared\", \"isCargo\": false, \"aircraft\": {\"model\": \"Embraer 190\"}, \"airline\": {\"name\": \"British Airways\"}}, {\"departure\": {\"airport\": {\"icao\": \"EDDF\", \"iata\": \"FRA\", \"name\": \"Frankfurt-am-Main\"}, \"scheduledTimeLocal\": \"2023-01-06 09:05+01:00\", \"actualTimeLocal\": \"2023-01-06 09:05+01:00\", \"scheduledTimeUtc\": \"2023-01-06 08:05Z\", \"actualTimeUtc\": \"2023-01-06 08:05Z\", \"terminal\": \"1\", \"quality\": [\"Basic\", \"Live\"]}, \"arrival\": {\"scheduledTimeLocal\": \"2023-01-06 09:30+00:00\", \"scheduledTimeUtc\": \"2023-01-06 09:30Z\", \"quality\": [\"Basic\"]}, \"number\": \"LH 928\", \"status\": \"Unknown\", \"codeshareStatus\": \"IsOperator\", \"isCargo\": false, \"aircraft\": {\"model\": \"Embraer 190\"}, \"airline\": {\"name\": \"Lufthansa\"}}, {\"departure\": {\"airport\": {\"icao\": \"EHRD\", \"iata\": \"RTM\", \"name\": \"Rotterdam\"}, \"scheduledTimeLocal\": \"2023-01-06 10:05+01:00\", \"actualTimeLocal\": \"2023-01-06 10:05+01:00\", \"scheduledTimeUtc\": \"2023-01-06 09:05Z\", \"actualTimeUtc\": \"2023-01-06 09:05Z\", \"quality\": [\"Basic\", \"Live\"]}, \"arrival\": {\"scheduledTimeLocal\": \"2023-01-06 10:00+00:00\", \"scheduledTimeUtc\": \"2023-01-06 10:00Z\", \"quality\": [\"Basic\"]}, \"number\": \"BA 4452\", \"status\": \"Unknown\", \"codeshareStatus\": \"IsCodeshared\", \"isCargo\": false, \"aircraft\": {\"model\": \"Embraer 190\"}, \"airline\": {\"name\": \"British Airways\"}}, {\"departure\": {\"airport\": {\"icao\": \"EGPH\", \"iata\": \"EDI\", \"name\": \"Edinburgh\"}, \"scheduledTimeLocal\": \"2023-01-06 08:45+00:00\", \"scheduledTimeUtc\": \"2023-01-06 08:45Z\", \"quality\": [\"Basic\"]}, \"arrival\": {\"scheduledTimeLocal\": \"2023-01-06 10:15+00:00\", \"scheduledTimeUtc\": \"2023-01-06 10:15Z\", \"quality\": [\"Basic\"]}, \"number\": \"BA 8703\", \"status\": \"Unknown\", \"codeshareStatus\": \"IsCodeshared\", \"isCargo\": false, \"aircraft\": {\"model\": \"Embraer 190\"}, \"airline\": {\"name\": \"British Airways\"}}, {\"departure\": {\"airport\": {\"icao\": \"EHAM\", \"iata\": \"AMS\", \"name\": \"Amsterdam\"}, \"scheduledTimeLocal\": \"2023-01-06 10:10+01:00\", \"actualTimeLocal\": \"2023-01-06 10:10+01:00\", \"scheduledTimeUtc\": \"2023-01-06 09:10Z\", \"actualTimeUtc\": \"2023-01-06 09:10Z\", \"terminal\": \"3\", \"checkInDesk\": \"18\", \"gate\": \"D26\", \"quality\": [\"Basic\", \"Live\"]}, \"arrival\": {\"scheduledTimeLocal\": \"2023-01-06 10:20+00:00\", \"scheduledTimeUtc\": \"2023-01-06 10:20Z\", \"quality\": [\"Basic\"]}, \"number\": \"BA 8496\", \"status\": \"Unknown\", \"codeshareStatus\": \"IsCodeshared\", \"isCargo\": false, \"aircraft\": {\"reg\": \"G-LCAH\", \"modeS\": \"4079D3\", \"model\": \"Embraer 190\"}, \"airline\": {\"name\": \"British Airways\"}}, {\"departure\": {\"airport\": {\"icao\": \"LSZH\", \"iata\": \"ZRH\", \"name\": \"Zurich\"}, \"scheduledTimeLocal\": \"2023-01-06 10:05+01:00\", \"actualTimeLocal\": \"2023-01-06 10:05+01:00\", \"scheduledTimeUtc\": \"2023-01-06 09:05Z\", \"actualTimeUtc\": \"2023-01-06 09:05Z\", \"checkInDesk\": \"2(2)\", \"quality\": [\"Basic\", \"Live\"]}, \"arrival\": {\"scheduledTimeLocal\": \"2023-01-06 10:45+00:00\", \"scheduledTimeUtc\": \"2023-01-06 10:45Z\", \"quality\": [\"Basic\"]}, \"number\": \"BA 8764\", \"status\": \"Unknown\", \"codeshareStatus\": \"IsCodeshared\", \"isCargo\": false, \"aircraft\": {\"model\": \"Embraer 190\"}, \"airline\": {\"name\": \"British Airways\"}}, {\"departure\": {\"airport\": {\"icao\": \"ELLX\", \"iata\": \"LUX\", \"name\": \"Luxembourg\"}, \"scheduledTimeLocal\": \"2023-01-06 10:50+01:00\", \"actualTimeLocal\": \"2023-01-06 10:50+01:00\", \"scheduledTimeUtc\": \"2023-01-06 09:50Z\", \"actualTimeUtc\": \"2023-01-06 09:50Z\", \"quality\": [\"Basic\", \"Live\"]}, \"arrival\": {\"scheduledTimeLocal\": \"2023-01-06 11:05+00:00\", \"scheduledTimeUtc\": \"2023-01-06 11:05Z\", \"quality\": [\"Basic\"]}, \"number\": \"LG 4593\", \"status\": \"Unknown\", \"codeshareStatus\": \"IsOperator\", \"isCargo\": false, \"aircraft\": {\"model\": \"Bombardier Dash 8 Q400 / DHC-8-400\"}, \"airline\": {\"name\": \"Luxair\"}}, {\"departure\": {\"airport\": {\"icao\": \"EDDF\", \"iata\": \"FRA\", \"name\": \"Frankfurt-am-Main\"}, \"scheduledTimeLocal\": \"2023-01-06 11:05+01:00\", \"actualTimeLocal\": \"2023-01-06 11:05+01:00\", \"scheduledTimeUtc\": \"2023-01-06 10:05Z\", \"actualTimeUtc\": \"2023-01-06 10:05Z\", \"terminal\": \"2\", \"quality\": [\"Basic\", \"Live\"]}, \"arrival\": {\"scheduledTimeLocal\": \"2023-01-06 11:40+00:00\", \"scheduledTimeUtc\": \"2023-01-06 11:40Z\", \"quality\": [\"Basic\"]}, \"number\": \"BA 8733\", \"status\": \"Unknown\", \"codeshareStatus\": \"Unknown\", \"isCargo\": false, \"aircraft\": {\"model\": \"Embraer 190\"}, \"airline\": {\"name\": \"British Airways\"}}, {\"departure\": {\"airport\": {\"icao\": \"LOWS\", \"iata\": \"SZG\", \"name\": \"Salzburg\"}, \"scheduledTimeLocal\": \"2023-01-06 10:55+01:00\", \"scheduledTimeUtc\": \"2023-01-06 09:55Z\", \"quality\": [\"Basic\"]}, \"arrival\": {\"scheduledTimeLocal\": \"2023-01-06 11:50+00:00\", \"scheduledTimeUtc\": \"2023-01-06 11:50Z\", \"quality\": [\"Basic\"]}, \"number\": \"BA 8480\", \"status\": \"Unknown\", \"codeshareStatus\": \"IsCodeshared\", \"isCargo\": false, \"aircraft\": {\"model\": \"Embraer 190\"}, \"airline\": {\"name\": \"British Airways\"}}]}\n",
      "=========================\n",
      "{\"arrivals\": [{\"departure\": {\"airport\": {\"icao\": \"LIRQ\", \"iata\": \"FLR\", \"name\": \"Firenze\"}, \"scheduledTimeLocal\": \"2023-01-06 10:55+01:00\", \"scheduledTimeUtc\": \"2023-01-06 09:55Z\", \"quality\": [\"Basic\"]}, \"arrival\": {\"scheduledTimeLocal\": \"2023-01-06 12:05+00:00\", \"scheduledTimeUtc\": \"2023-01-06 12:05Z\", \"quality\": [\"Basic\"]}, \"number\": \"BA 8472\", \"status\": \"Unknown\", \"codeshareStatus\": \"IsCodeshared\", \"isCargo\": false, \"aircraft\": {\"model\": \"Embraer 190\"}, \"airline\": {\"name\": \"British Airways\"}}, {\"departure\": {\"airport\": {\"icao\": \"EGAC\", \"iata\": \"BHD\", \"name\": \"Belfast\"}, \"scheduledTimeLocal\": \"2023-01-06 10:50+00:00\", \"scheduledTimeUtc\": \"2023-01-06 10:50Z\", \"quality\": [\"Basic\"]}, \"arrival\": {\"scheduledTimeLocal\": \"2023-01-06 12:20+00:00\", \"scheduledTimeUtc\": \"2023-01-06 12:20Z\", \"quality\": [\"Basic\"]}, \"number\": \"BA 8753\", \"status\": \"Unknown\", \"codeshareStatus\": \"Unknown\", \"isCargo\": false, \"aircraft\": {\"model\": \"Embraer 190\"}, \"airline\": {\"name\": \"British Airways\"}}, {\"departure\": {\"airport\": {\"icao\": \"LEPA\", \"iata\": \"PMI\", \"name\": \"Palma De Mallorca\"}, \"scheduledTimeLocal\": \"2023-01-06 10:50+01:00\", \"actualTimeLocal\": \"2023-01-06 10:50+01:00\", \"scheduledTimeUtc\": \"2023-01-06 09:50Z\", \"actualTimeUtc\": \"2023-01-06 09:50Z\", \"quality\": [\"Basic\", \"Live\"]}, \"arrival\": {\"scheduledTimeLocal\": \"2023-01-06 12:25+00:00\", \"scheduledTimeUtc\": \"2023-01-06 12:25Z\", \"quality\": [\"Basic\"]}, \"number\": \"BA 8484\", \"status\": \"Unknown\", \"codeshareStatus\": \"IsCodeshared\", \"isCargo\": false, \"aircraft\": {\"model\": \"Embraer 190\"}, \"airline\": {\"name\": \"British Airways\"}}, {\"departure\": {\"airport\": {\"icao\": \"EIDW\", \"iata\": \"DUB\", \"name\": \"Dublin\"}, \"scheduledTimeLocal\": \"2023-01-06 11:05+00:00\", \"actualTimeLocal\": \"2023-01-06 11:05+00:00\", \"scheduledTimeUtc\": \"2023-01-06 11:05Z\", \"actualTimeUtc\": \"2023-01-06 11:05Z\", \"terminal\": \"1\", \"checkInDesk\": \"405-409\", \"gate\": \"213\", \"quality\": [\"Basic\", \"Live\"]}, \"arrival\": {\"scheduledTimeLocal\": \"2023-01-06 12:35+00:00\", \"scheduledTimeUtc\": \"2023-01-06 12:35Z\", \"quality\": [\"Basic\"]}, \"number\": \"BA 4465\", \"status\": \"Unknown\", \"codeshareStatus\": \"Unknown\", \"isCargo\": false, \"aircraft\": {\"model\": \"Embraer 190\"}, \"airline\": {\"name\": \"British Airways\"}}, {\"departure\": {\"airport\": {\"icao\": \"EDDB\", \"iata\": \"BER\", \"name\": \"Berlin\"}, \"scheduledTimeLocal\": \"2023-01-06 11:55+01:00\", \"scheduledTimeUtc\": \"2023-01-06 10:55Z\", \"terminal\": \"1\", \"quality\": [\"Basic\"]}, \"arrival\": {\"scheduledTimeLocal\": \"2023-01-06 12:40+00:00\", \"scheduledTimeUtc\": \"2023-01-06 12:40Z\", \"quality\": [\"Basic\"]}, \"number\": \"BA 8492\", \"status\": \"Unknown\", \"codeshareStatus\": \"IsCodeshared\", \"isCargo\": false, \"aircraft\": {\"model\": \"Embraer 190\"}, \"airline\": {\"name\": \"British Airways\"}}, {\"departure\": {\"airport\": {\"name\": \"Geneva\"}, \"quality\": []}, \"arrival\": {\"scheduledTimeLocal\": \"2023-01-06 12:50+00:00\", \"scheduledTimeUtc\": \"2023-01-06 12:50Z\", \"quality\": [\"Basic\"]}, \"number\": \"BA 2280\", \"status\": \"Unknown\", \"codeshareStatus\": \"IsCodeshared\", \"isCargo\": false, \"aircraft\": {\"model\": \"Embraer 190\"}, \"airline\": {\"name\": \"British Airways\"}}, {\"departure\": {\"airport\": {\"icao\": \"LSZH\", \"iata\": \"ZRH\", \"name\": \"Zurich\"}, \"scheduledTimeLocal\": \"2023-01-06 12:10+01:00\", \"actualTimeLocal\": \"2023-01-06 12:10+01:00\", \"scheduledTimeUtc\": \"2023-01-06 11:10Z\", \"actualTimeUtc\": \"2023-01-06 11:10Z\", \"checkInDesk\": \"1\", \"quality\": [\"Basic\", \"Live\"]}, \"arrival\": {\"scheduledTimeLocal\": \"2023-01-06 12:50+00:00\", \"scheduledTimeUtc\": \"2023-01-06 12:50Z\", \"quality\": [\"Basic\"]}, \"number\": \"LX 456\", \"status\": \"Unknown\", \"codeshareStatus\": \"IsOperator\", \"isCargo\": false, \"aircraft\": {\"model\": \"Airbus A220-100\"}, \"airline\": {\"name\": \"SWISS\"}}, {\"departure\": {\"airport\": {\"icao\": \"LIML\", \"iata\": \"LIN\", \"name\": \"Milan\"}, \"scheduledTimeLocal\": \"2023-01-06 12:20+01:00\", \"scheduledTimeUtc\": \"2023-01-06 11:20Z\", \"quality\": [\"Basic\"]}, \"arrival\": {\"scheduledTimeLocal\": \"2023-01-06 13:15+00:00\", \"scheduledTimeUtc\": \"2023-01-06 13:15Z\", \"quality\": [\"Basic\"]}, \"number\": \"AZ 226\", \"status\": \"Unknown\", \"codeshareStatus\": \"Unknown\", \"isCargo\": false, \"aircraft\": {\"model\": \"Embraer 190\"}, \"airline\": {\"name\": \"Alitalia\"}}, {\"departure\": {\"airport\": {\"icao\": \"EHAM\", \"iata\": \"AMS\", \"name\": \"Amsterdam\"}, \"scheduledTimeLocal\": \"2023-01-06 13:40+01:00\", \"actualTimeLocal\": \"2023-01-06 13:40+01:00\", \"scheduledTimeUtc\": \"2023-01-06 12:40Z\", \"actualTimeUtc\": \"2023-01-06 12:40Z\", \"terminal\": \"3\", \"checkInDesk\": \"18\", \"quality\": [\"Basic\", \"Live\"]}, \"arrival\": {\"scheduledTimeLocal\": \"2023-01-06 13:45+00:00\", \"scheduledTimeUtc\": \"2023-01-06 13:45Z\", \"quality\": [\"Basic\"]}, \"number\": \"BA 8460\", \"status\": \"Unknown\", \"codeshareStatus\": \"Unknown\", \"isCargo\": false, \"aircraft\": {\"model\": \"Embraer 190\"}, \"airline\": {\"name\": \"British Airways\"}}, {\"departure\": {\"airport\": {\"icao\": \"EGPH\", \"iata\": \"EDI\", \"name\": \"Edinburgh\"}, \"scheduledTimeLocal\": \"2023-01-06 12:50+00:00\", \"scheduledTimeUtc\": \"2023-01-06 12:50Z\", \"quality\": [\"Basic\"]}, \"arrival\": {\"scheduledTimeLocal\": \"2023-01-06 14:20+00:00\", \"scheduledTimeUtc\": \"2023-01-06 14:20Z\", \"quality\": [\"Basic\"]}, \"number\": \"BA 8705\", \"status\": \"Unknown\", \"codeshareStatus\": \"Unknown\", \"isCargo\": false, \"aircraft\": {\"model\": \"Embraer 190\"}, \"airline\": {\"name\": \"British Airways\"}}, {\"departure\": {\"airport\": {\"icao\": \"EDDL\", \"iata\": \"DUS\", \"name\": \"Duesseldorf\"}, \"scheduledTimeLocal\": \"2023-01-06 14:30+01:00\", \"actualTimeLocal\": \"2023-01-06 14:30+01:00\", \"scheduledTimeUtc\": \"2023-01-06 13:30Z\", \"actualTimeUtc\": \"2023-01-06 13:30Z\", \"terminal\": \"B\", \"checkInDesk\": \"196-197\", \"gate\": \"C32\", \"quality\": [\"Basic\", \"Live\"]}, \"arrival\": {\"scheduledTimeLocal\": \"2023-01-06 14:45+00:00\", \"scheduledTimeUtc\": \"2023-01-06 14:45Z\", \"quality\": [\"Basic\"]}, \"number\": \"BA 3274\", \"callSign\": \"CFE21U\", \"status\": \"Unknown\", \"codeshareStatus\": \"Unknown\", \"isCargo\": false, \"aircraft\": {\"model\": \"Embraer 190\"}, \"airline\": {\"name\": \"British Airways\"}}, {\"departure\": {\"airport\": {\"icao\": \"LIRQ\", \"iata\": \"FLR\", \"name\": \"Firenze\"}, \"scheduledTimeLocal\": \"2023-01-06 13:40+01:00\", \"scheduledTimeUtc\": \"2023-01-06 12:40Z\", \"quality\": [\"Basic\"]}, \"arrival\": {\"scheduledTimeLocal\": \"2023-01-06 14:50+00:00\", \"scheduledTimeUtc\": \"2023-01-06 14:50Z\", \"quality\": [\"Basic\"]}, \"number\": \"BA 3280\", \"status\": \"Unknown\", \"codeshareStatus\": \"Unknown\", \"isCargo\": false, \"aircraft\": {\"model\": \"Embraer 190\"}, \"airline\": {\"name\": \"British Airways\"}}, {\"departure\": {\"airport\": {\"icao\": \"LEIB\", \"iata\": \"IBZ\", \"name\": \"Ibiza Town\"}, \"scheduledTimeLocal\": \"2023-01-06 13:20+01:00\", \"actualTimeLocal\": \"2023-01-06 13:20+01:00\", \"scheduledTimeUtc\": \"2023-01-06 12:20Z\", \"actualTimeUtc\": \"2023-01-06 12:20Z\", \"quality\": [\"Basic\", \"Live\"]}, \"arrival\": {\"scheduledTimeLocal\": \"2023-01-06 14:55+00:00\", \"scheduledTimeUtc\": \"2023-01-06 14:55Z\", \"quality\": [\"Basic\"]}, \"number\": \"BA 8462\", \"status\": \"Unknown\", \"codeshareStatus\": \"Unknown\", \"isCargo\": false, \"aircraft\": {\"model\": \"Embraer 190\"}, \"airline\": {\"name\": \"British Airways\"}}, {\"departure\": {\"airport\": {\"icao\": \"ELLX\", \"iata\": \"LUX\", \"name\": \"Luxembourg\"}, \"scheduledTimeLocal\": \"2023-01-06 15:05+01:00\", \"actualTimeLocal\": \"2023-01-06 15:05+01:00\", \"scheduledTimeUtc\": \"2023-01-06 14:05Z\", \"actualTimeUtc\": \"2023-01-06 14:05Z\", \"quality\": [\"Basic\", \"Live\"]}, \"arrival\": {\"scheduledTimeLocal\": \"2023-01-06 15:20+00:00\", \"scheduledTimeUtc\": \"2023-01-06 15:20Z\", \"quality\": [\"Basic\"]}, \"number\": \"LG 4595\", \"status\": \"Unknown\", \"codeshareStatus\": \"Unknown\", \"isCargo\": false, \"aircraft\": {\"model\": \"Bombardier Dash 8 Q400 / DHC-8-400\"}, \"airline\": {\"name\": \"Luxair\"}}, {\"departure\": {\"airport\": {\"icao\": \"LEMG\", \"iata\": \"AGP\", \"name\": \"M\\u00e1laga\"}, \"scheduledTimeLocal\": \"2023-01-06 13:50+01:00\", \"actualTimeLocal\": \"2023-01-06 13:50+01:00\", \"scheduledTimeUtc\": \"2023-01-06 12:50Z\", \"actualTimeUtc\": \"2023-01-06 12:50Z\", \"quality\": [\"Basic\", \"Live\"]}, \"arrival\": {\"scheduledTimeLocal\": \"2023-01-06 15:45+00:00\", \"scheduledTimeUtc\": \"2023-01-06 15:45Z\", \"quality\": [\"Basic\"]}, \"number\": \"BA 8488\", \"status\": \"Unknown\", \"codeshareStatus\": \"Unknown\", \"isCargo\": false, \"aircraft\": {\"model\": \"Embraer 190\"}, \"airline\": {\"name\": \"British Airways\"}}, {\"departure\": {\"airport\": {\"icao\": \"LKPR\", \"iata\": \"PRG\", \"name\": \"Prague\"}, \"scheduledTimeLocal\": \"2023-01-06 14:55+01:00\", \"scheduledTimeUtc\": \"2023-01-06 13:55Z\", \"terminal\": \"1\", \"quality\": [\"Basic\"]}, \"arrival\": {\"scheduledTimeLocal\": \"2023-01-06 15:50+00:00\", \"scheduledTimeUtc\": \"2023-01-06 15:50Z\", \"quality\": [\"Basic\"]}, \"number\": \"BA 7338\", \"status\": \"Unknown\", \"codeshareStatus\": \"IsCodeshared\", \"isCargo\": false, \"aircraft\": {\"model\": \"Embraer 190\"}, \"airline\": {\"name\": \"British Airways\"}}, {\"departure\": {\"airport\": {\"icao\": \"EGPF\", \"iata\": \"GLA\", \"name\": \"Glasgow\"}, \"scheduledTimeLocal\": \"2023-01-06 14:40+00:00\", \"scheduledTimeUtc\": \"2023-01-06 14:40Z\", \"terminal\": \"M\", \"quality\": [\"Basic\"]}, \"arrival\": {\"scheduledTimeLocal\": \"2023-01-06 16:10+00:00\", \"scheduledTimeUtc\": \"2023-01-06 16:10Z\", \"quality\": [\"Basic\"]}, \"number\": \"BA 2211\", \"status\": \"Unknown\", \"codeshareStatus\": \"Unknown\", \"isCargo\": false, \"aircraft\": {\"model\": \"Embraer 190\"}, \"airline\": {\"name\": \"British Airways\"}}, {\"departure\": {\"airport\": {\"icao\": \"EHAM\", \"iata\": \"AMS\", \"name\": \"Amsterdam\"}, \"scheduledTimeLocal\": \"2023-01-06 16:20+01:00\", \"scheduledTimeUtc\": \"2023-01-06 15:20Z\", \"quality\": [\"Basic\"]}, \"arrival\": {\"scheduledTimeLocal\": \"2023-01-06 16:25+00:00\", \"scheduledTimeUtc\": \"2023-01-06 16:25Z\", \"quality\": [\"Basic\"]}, \"number\": \"BA 8454\", \"status\": \"Unknown\", \"codeshareStatus\": \"Unknown\", \"isCargo\": false, \"aircraft\": {\"model\": \"Embraer 190\"}, \"airline\": {\"name\": \"British Airways\"}}, {\"departure\": {\"airport\": {\"icao\": \"EGPH\", \"iata\": \"EDI\", \"name\": \"Edinburgh\"}, \"scheduledTimeLocal\": \"2023-01-06 15:05+00:00\", \"scheduledTimeUtc\": \"2023-01-06 15:05Z\", \"quality\": [\"Basic\"]}, \"arrival\": {\"scheduledTimeLocal\": \"2023-01-06 16:30+00:00\", \"scheduledTimeUtc\": \"2023-01-06 16:30Z\", \"quality\": [\"Basic\"]}, \"number\": \"BA 8717\", \"status\": \"Unknown\", \"codeshareStatus\": \"Unknown\", \"isCargo\": false, \"aircraft\": {\"model\": \"Embraer 190\"}, \"airline\": {\"name\": \"British Airways\"}}, {\"departure\": {\"airport\": {\"icao\": \"EHAM\", \"iata\": \"AMS\", \"name\": \"Amsterdam\"}, \"scheduledTimeLocal\": \"2023-01-06 16:30+01:00\", \"actualTimeLocal\": \"2023-01-06 16:30+01:00\", \"scheduledTimeUtc\": \"2023-01-06 15:30Z\", \"actualTimeUtc\": \"2023-01-06 15:30Z\", \"terminal\": \"2\", \"checkInDesk\": \"9-16\", \"quality\": [\"Basic\", \"Live\"]}, \"arrival\": {\"scheduledTimeLocal\": \"2023-01-06 16:35+00:00\", \"scheduledTimeUtc\": \"2023-01-06 16:35Z\", \"quality\": [\"Basic\"]}, \"number\": \"KL 989\", \"status\": \"Unknown\", \"codeshareStatus\": \"Unknown\", \"isCargo\": false, \"aircraft\": {\"model\": \"Embraer 190\"}, \"airline\": {\"name\": \"KLM\"}}, {\"departure\": {\"airport\": {\"icao\": \"LEBL\", \"iata\": \"BCN\", \"name\": \"Barcelona\"}, \"scheduledTimeLocal\": \"2023-01-06 15:25+01:00\", \"actualTimeLocal\": \"2023-01-06 15:25+01:00\", \"scheduledTimeUtc\": \"2023-01-06 14:25Z\", \"actualTimeUtc\": \"2023-01-06 14:25Z\", \"terminal\": \"1\", \"quality\": [\"Basic\", \"Live\"]}, \"arrival\": {\"scheduledTimeLocal\": \"2023-01-06 16:40+00:00\", \"scheduledTimeUtc\": \"2023-01-06 16:40Z\", \"quality\": [\"Basic\"]}, \"number\": \"BA 8760\", \"status\": \"Unknown\", \"codeshareStatus\": \"Unknown\", \"isCargo\": false, \"aircraft\": {\"model\": \"Embraer 190\"}, \"airline\": {\"name\": \"British Airways\"}}, {\"departure\": {\"airport\": {\"icao\": \"EDDF\", \"iata\": \"FRA\", \"name\": \"Frankfurt-am-Main\"}, \"scheduledTimeLocal\": \"2023-01-06 16:15+01:00\", \"actualTimeLocal\": \"2023-01-06 16:15+01:00\", \"scheduledTimeUtc\": \"2023-01-06 15:15Z\", \"actualTimeUtc\": \"2023-01-06 15:15Z\", \"terminal\": \"1\", \"quality\": [\"Basic\", \"Live\"]}, \"arrival\": {\"scheduledTimeLocal\": \"2023-01-06 16:40+00:00\", \"scheduledTimeUtc\": \"2023-01-06 16:40Z\", \"quality\": [\"Basic\"]}, \"number\": \"LH 934\", \"status\": \"Unknown\", \"codeshareStatus\": \"Unknown\", \"isCargo\": false, \"aircraft\": {\"model\": \"Embraer 190\"}, \"airline\": {\"name\": \"Lufthansa\"}}, {\"departure\": {\"airport\": {\"icao\": \"LSZH\", \"iata\": \"ZRH\", \"name\": \"Zurich\"}, \"scheduledTimeLocal\": \"2023-01-06 16:25+01:00\", \"actualTimeLocal\": \"2023-01-06 16:25+01:00\", \"scheduledTimeUtc\": \"2023-01-06 15:25Z\", \"actualTimeUtc\": \"2023-01-06 15:25Z\", \"checkInDesk\": \"1\", \"quality\": [\"Basic\", \"Live\"]}, \"arrival\": {\"scheduledTimeLocal\": \"2023-01-06 17:05+00:00\", \"scheduledTimeUtc\": \"2023-01-06 17:05Z\", \"quality\": [\"Basic\"]}, \"number\": \"LX 464\", \"status\": \"Unknown\", \"codeshareStatus\": \"Unknown\", \"isCargo\": false, \"aircraft\": {\"model\": \"Airbus A220-100\"}, \"airline\": {\"name\": \"SWISS\"}}, {\"departure\": {\"airport\": {\"icao\": \"EIDW\", \"iata\": \"DUB\", \"name\": \"Dublin\"}, \"scheduledTimeLocal\": \"2023-01-06 15:55+00:00\", \"actualTimeLocal\": \"2023-01-06 15:55+00:00\", \"scheduledTimeUtc\": \"2023-01-06 15:55Z\", \"actualTimeUtc\": \"2023-01-06 15:55Z\", \"terminal\": \"1\", \"checkInDesk\": \"405-409\", \"gate\": \"203\", \"quality\": [\"Basic\", \"Live\"]}, \"arrival\": {\"scheduledTimeLocal\": \"2023-01-06 17:30+00:00\", \"scheduledTimeUtc\": \"2023-01-06 17:30Z\", \"quality\": [\"Basic\"]}, \"number\": \"BA 4467\", \"status\": \"Unknown\", \"codeshareStatus\": \"Unknown\", \"isCargo\": false, \"aircraft\": {\"model\": \"Embraer 190\"}, \"airline\": {\"name\": \"British Airways\"}}, {\"departure\": {\"airport\": {\"icao\": \"EGPH\", \"iata\": \"EDI\", \"name\": \"Edinburgh\"}, \"scheduledTimeLocal\": \"2023-01-06 16:00+00:00\", \"scheduledTimeUtc\": \"2023-01-06 16:00Z\", \"quality\": [\"Basic\"]}, \"arrival\": {\"scheduledTimeLocal\": \"2023-01-06 17:30+00:00\", \"scheduledTimeUtc\": \"2023-01-06 17:30Z\", \"quality\": [\"Basic\"]}, \"number\": \"BA 8707\", \"status\": \"Unknown\", \"codeshareStatus\": \"Unknown\", \"isCargo\": false, \"aircraft\": {\"model\": \"Embraer 190\"}, \"airline\": {\"name\": \"British Airways\"}}, {\"departure\": {\"airport\": {\"icao\": \"EGPF\", \"iata\": \"GLA\", \"name\": \"Glasgow\"}, \"scheduledTimeLocal\": \"2023-01-06 16:15+00:00\", \"scheduledTimeUtc\": \"2023-01-06 16:15Z\", \"terminal\": \"M\", \"quality\": [\"Basic\"]}, \"arrival\": {\"scheduledTimeLocal\": \"2023-01-06 17:45+00:00\", \"scheduledTimeUtc\": \"2023-01-06 17:45Z\", \"quality\": [\"Basic\"]}, \"number\": \"BA 8725\", \"status\": \"Unknown\", \"codeshareStatus\": \"Unknown\", \"isCargo\": false, \"aircraft\": {\"model\": \"Embraer 190\"}, \"airline\": {\"name\": \"British Airways\"}}, {\"departure\": {\"airport\": {\"icao\": \"EDDB\", \"iata\": \"BER\", \"name\": \"Berlin\"}, \"scheduledTimeLocal\": \"2023-01-06 17:00+01:00\", \"scheduledTimeUtc\": \"2023-01-06 16:00Z\", \"terminal\": \"1\", \"quality\": [\"Basic\"]}, \"arrival\": {\"scheduledTimeLocal\": \"2023-01-06 17:55+00:00\", \"scheduledTimeUtc\": \"2023-01-06 17:55Z\", \"quality\": [\"Basic\"]}, \"number\": \"BA 8494\", \"status\": \"Unknown\", \"codeshareStatus\": \"Unknown\", \"isCargo\": false, \"aircraft\": {\"model\": \"Embraer 190\"}, \"airline\": {\"name\": \"British Airways\"}}, {\"departure\": {\"airport\": {\"icao\": \"EYVI\", \"iata\": \"VNO\", \"name\": \"Vilnius\"}, \"scheduledTimeLocal\": \"2023-01-06 17:00+02:00\", \"scheduledTimeUtc\": \"2023-01-06 15:00Z\", \"quality\": [\"Basic\"]}, \"arrival\": {\"scheduledTimeLocal\": \"2023-01-06 18:00+00:00\", \"scheduledTimeUtc\": \"2023-01-06 18:00Z\", \"quality\": [\"Basic\"]}, \"number\": \"LO 273\", \"status\": \"Unknown\", \"codeshareStatus\": \"Unknown\", \"isCargo\": false, \"aircraft\": {\"model\": \"Embraer 190\"}, \"airline\": {\"name\": \"LOT - Polish\"}}, {\"departure\": {\"airport\": {\"icao\": \"ELLX\", \"iata\": \"LUX\", \"name\": \"Luxembourg\"}, \"scheduledTimeLocal\": \"2023-01-06 17:50+01:00\", \"actualTimeLocal\": \"2023-01-06 17:50+01:00\", \"scheduledTimeUtc\": \"2023-01-06 16:50Z\", \"actualTimeUtc\": \"2023-01-06 16:50Z\", \"quality\": [\"Basic\", \"Live\"]}, \"arrival\": {\"scheduledTimeLocal\": \"2023-01-06 18:10+00:00\", \"scheduledTimeUtc\": \"2023-01-06 18:10Z\", \"quality\": [\"Basic\"]}, \"number\": \"LG 4601\", \"status\": \"Unknown\", \"codeshareStatus\": \"Unknown\", \"isCargo\": false, \"aircraft\": {\"model\": \"Bombardier Dash 8 Q400 / DHC-8-400\"}, \"airline\": {\"name\": \"Luxair\"}}, {\"departure\": {\"airport\": {\"icao\": \"EGNS\", \"iata\": \"IOM\", \"name\": \"Castletown\"}, \"scheduledTimeLocal\": \"2023-01-06 16:40+00:00\", \"scheduledTimeUtc\": \"2023-01-06 16:40Z\", \"quality\": [\"Basic\"]}, \"arrival\": {\"scheduledTimeLocal\": \"2023-01-06 18:15+00:00\", \"scheduledTimeUtc\": \"2023-01-06 18:15Z\", \"quality\": [\"Basic\"]}, \"number\": \"LM 677\", \"status\": \"Unknown\", \"codeshareStatus\": \"Unknown\", \"isCargo\": false, \"aircraft\": {\"model\": \"ATR 72\"}, \"airline\": {\"name\": \"Loganair\"}}, {\"departure\": {\"airport\": {\"icao\": \"EDDL\", \"iata\": \"DUS\", \"name\": \"Duesseldorf\"}, \"scheduledTimeLocal\": \"2023-01-06 18:10+01:00\", \"actualTimeLocal\": \"2023-01-06 18:10+01:00\", \"scheduledTimeUtc\": \"2023-01-06 17:10Z\", \"actualTimeUtc\": \"2023-01-06 17:10Z\", \"terminal\": \"B\", \"checkInDesk\": \"196-197\", \"quality\": [\"Basic\", \"Live\"]}, \"arrival\": {\"scheduledTimeLocal\": \"2023-01-06 18:25+00:00\", \"scheduledTimeUtc\": \"2023-01-06 18:25Z\", \"quality\": [\"Basic\"]}, \"number\": \"BA 3276\", \"callSign\": \"CFE75J\", \"status\": \"Unknown\", \"codeshareStatus\": \"Unknown\", \"isCargo\": false, \"aircraft\": {\"model\": \"Embraer 190\"}, \"airline\": {\"name\": \"British Airways\"}}, {\"departure\": {\"airport\": {\"icao\": \"EHAM\", \"iata\": \"AMS\", \"name\": \"Amsterdam\"}, \"scheduledTimeLocal\": \"2023-01-06 18:20+01:00\", \"actualTimeLocal\": \"2023-01-06 18:20+01:00\", \"scheduledTimeUtc\": \"2023-01-06 17:20Z\", \"actualTimeUtc\": \"2023-01-06 17:20Z\", \"terminal\": \"2\", \"checkInDesk\": \"9-16\", \"quality\": [\"Basic\", \"Live\"]}, \"arrival\": {\"scheduledTimeLocal\": \"2023-01-06 18:25+00:00\", \"scheduledTimeUtc\": \"2023-01-06 18:25Z\", \"quality\": [\"Basic\"]}, \"number\": \"KL 991\", \"status\": \"Unknown\", \"codeshareStatus\": \"Unknown\", \"isCargo\": false, \"aircraft\": {\"model\": \"Embraer 190\"}, \"airline\": {\"name\": \"KLM\"}}, {\"departure\": {\"airport\": {\"icao\": \"EDDF\", \"iata\": \"FRA\", \"name\": \"Frankfurt-am-Main\"}, \"scheduledTimeLocal\": \"2023-01-06 17:50+01:00\", \"actualTimeLocal\": \"2023-01-06 17:50+01:00\", \"scheduledTimeUtc\": \"2023-01-06 16:50Z\", \"actualTimeUtc\": \"2023-01-06 16:50Z\", \"terminal\": \"2\", \"quality\": [\"Basic\", \"Live\"]}, \"arrival\": {\"scheduledTimeLocal\": \"2023-01-06 18:30+00:00\", \"scheduledTimeUtc\": \"2023-01-06 18:30Z\", \"quality\": [\"Basic\"]}, \"number\": \"BA 8735\", \"status\": \"Unknown\", \"codeshareStatus\": \"Unknown\", \"isCargo\": false, \"aircraft\": {\"model\": \"Embraer 190\"}, \"airline\": {\"name\": \"British Airways\"}}, {\"departure\": {\"airport\": {\"icao\": \"LIML\", \"iata\": \"LIN\", \"name\": \"Milan\"}, \"scheduledTimeLocal\": \"2023-01-06 17:40+01:00\", \"scheduledTimeUtc\": \"2023-01-06 16:40Z\", \"quality\": [\"Basic\"]}, \"arrival\": {\"scheduledTimeLocal\": \"2023-01-06 18:35+00:00\", \"scheduledTimeUtc\": \"2023-01-06 18:35Z\", \"quality\": [\"Basic\"]}, \"number\": \"AZ 220\", \"status\": \"Unknown\", \"codeshareStatus\": \"Unknown\", \"isCargo\": false, \"aircraft\": {\"model\": \"Embraer 190\"}, \"airline\": {\"name\": \"Alitalia\"}}, {\"departure\": {\"airport\": {\"icao\": \"EGAC\", \"iata\": \"BHD\", \"name\": \"Belfast\"}, \"scheduledTimeLocal\": \"2023-01-06 17:05+00:00\", \"scheduledTimeUtc\": \"2023-01-06 17:05Z\", \"quality\": [\"Basic\"]}, \"arrival\": {\"scheduledTimeLocal\": \"2023-01-06 18:40+00:00\", \"scheduledTimeUtc\": \"2023-01-06 18:40Z\", \"quality\": [\"Basic\"]}, \"number\": \"BA 8757\", \"status\": \"Unknown\", \"codeshareStatus\": \"Unknown\", \"isCargo\": false, \"aircraft\": {\"model\": \"Embraer 190\"}, \"airline\": {\"name\": \"British Airways\"}}, {\"departure\": {\"airport\": {\"icao\": \"LSZH\", \"iata\": \"ZRH\", \"name\": \"Zurich\"}, \"scheduledTimeLocal\": \"2023-01-06 18:00+01:00\", \"actualTimeLocal\": \"2023-01-06 18:00+01:00\", \"scheduledTimeUtc\": \"2023-01-06 17:00Z\", \"actualTimeUtc\": \"2023-01-06 17:00Z\", \"checkInDesk\": \"1\", \"quality\": [\"Basic\", \"Live\"]}, \"arrival\": {\"scheduledTimeLocal\": \"2023-01-06 18:40+00:00\", \"scheduledTimeUtc\": \"2023-01-06 18:40Z\", \"quality\": [\"Basic\"]}, \"number\": \"LX 466\", \"status\": \"Unknown\", \"codeshareStatus\": \"Unknown\", \"isCargo\": false, \"aircraft\": {\"model\": \"Airbus A220-100\"}, \"airline\": {\"name\": \"SWISS\"}}, {\"departure\": {\"airport\": {\"icao\": \"LSGG\", \"iata\": \"GVA\", \"name\": \"Geneva\"}, \"scheduledTimeLocal\": \"2023-01-06 18:05+01:00\", \"scheduledTimeUtc\": \"2023-01-06 17:05Z\", \"terminal\": \"1\", \"quality\": [\"Basic\"]}, \"arrival\": {\"scheduledTimeLocal\": \"2023-01-06 18:45+00:00\", \"scheduledTimeUtc\": \"2023-01-06 18:45Z\", \"quality\": [\"Basic\"]}, \"number\": \"LX 446\", \"status\": \"Unknown\", \"codeshareStatus\": \"Unknown\", \"isCargo\": false, \"aircraft\": {\"model\": \"Airbus A220-100\"}, \"airline\": {\"name\": \"SWISS\"}}, {\"departure\": {\"airport\": {\"icao\": \"EHRD\", \"iata\": \"RTM\", \"name\": \"Rotterdam\"}, \"scheduledTimeLocal\": \"2023-01-06 19:00+01:00\", \"actualTimeLocal\": \"2023-01-06 19:00+01:00\", \"scheduledTimeUtc\": \"2023-01-06 18:00Z\", \"actualTimeUtc\": \"2023-01-06 18:00Z\", \"quality\": [\"Basic\", \"Live\"]}, \"arrival\": {\"scheduledTimeLocal\": \"2023-01-06 18:55+00:00\", \"scheduledTimeUtc\": \"2023-01-06 18:55Z\", \"quality\": [\"Basic\"]}, \"number\": \"BA 4458\", \"status\": \"Unknown\", \"codeshareStatus\": \"Unknown\", \"isCargo\": false, \"aircraft\": {\"model\": \"Embraer 190\"}, \"airline\": {\"name\": \"British Airways\"}}, {\"departure\": {\"airport\": {\"icao\": \"ELLX\", \"iata\": \"LUX\", \"name\": \"Luxembourg\"}, \"scheduledTimeLocal\": \"2023-01-06 18:45+01:00\", \"actualTimeLocal\": \"2023-01-06 18:45+01:00\", \"scheduledTimeUtc\": \"2023-01-06 17:45Z\", \"actualTimeUtc\": \"2023-01-06 17:45Z\", \"quality\": [\"Basic\", \"Live\"]}, \"arrival\": {\"scheduledTimeLocal\": \"2023-01-06 19:05+00:00\", \"scheduledTimeUtc\": \"2023-01-06 19:05Z\", \"quality\": [\"Basic\"]}, \"number\": \"LG 4597\", \"status\": \"Unknown\", \"codeshareStatus\": \"Unknown\", \"isCargo\": false, \"aircraft\": {\"model\": \"Bombardier Dash 8 Q400 / DHC-8-400\"}, \"airline\": {\"name\": \"Luxair\"}}, {\"departure\": {\"airport\": {\"icao\": \"EGPH\", \"iata\": \"EDI\", \"name\": \"Edinburgh\"}, \"scheduledTimeLocal\": \"2023-01-06 17:30+00:00\", \"scheduledTimeUtc\": \"2023-01-06 17:30Z\", \"quality\": [\"Basic\"]}, \"arrival\": {\"scheduledTimeLocal\": \"2023-01-06 19:10+00:00\", \"scheduledTimeUtc\": \"2023-01-06 19:10Z\", \"quality\": [\"Basic\"]}, \"number\": \"BA 8709\", \"status\": \"Unknown\", \"codeshareStatus\": \"Unknown\", \"isCargo\": false, \"aircraft\": {\"model\": \"Embraer 190\"}, \"airline\": {\"name\": \"British Airways\"}}, {\"departure\": {\"airport\": {\"icao\": \"EHAM\", \"iata\": \"AMS\", \"name\": \"Amsterdam\"}, \"scheduledTimeLocal\": \"2023-01-06 19:30+01:00\", \"actualTimeLocal\": \"2023-01-06 19:30+01:00\", \"scheduledTimeUtc\": \"2023-01-06 18:30Z\", \"actualTimeUtc\": \"2023-01-06 18:30Z\", \"terminal\": \"2\", \"checkInDesk\": \"9-16\", \"quality\": [\"Basic\", \"Live\"]}, \"arrival\": {\"scheduledTimeLocal\": \"2023-01-06 19:35+00:00\", \"scheduledTimeUtc\": \"2023-01-06 19:35Z\", \"quality\": [\"Basic\"]}, \"number\": \"KL 997\", \"status\": \"Unknown\", \"codeshareStatus\": \"Unknown\", \"isCargo\": false, \"aircraft\": {\"model\": \"Embraer 190\"}, \"airline\": {\"name\": \"KLM\"}}, {\"departure\": {\"airport\": {\"icao\": \"ELLX\", \"iata\": \"LUX\", \"name\": \"Luxembourg\"}, \"scheduledTimeLocal\": \"2023-01-06 19:30+01:00\", \"actualTimeLocal\": \"2023-01-06 19:30+01:00\", \"scheduledTimeUtc\": \"2023-01-06 18:30Z\", \"actualTimeUtc\": \"2023-01-06 18:30Z\", \"quality\": [\"Basic\", \"Live\"]}, \"arrival\": {\"scheduledTimeLocal\": \"2023-01-06 19:45+00:00\", \"scheduledTimeUtc\": \"2023-01-06 19:45Z\", \"quality\": [\"Basic\"]}, \"number\": \"LG 4603\", \"status\": \"Unknown\", \"codeshareStatus\": \"Unknown\", \"isCargo\": false, \"aircraft\": {\"model\": \"Bombardier Dash 8 Q400 / DHC-8-400\"}, \"airline\": {\"name\": \"Luxair\"}}, {\"departure\": {\"airport\": {\"icao\": \"LSZH\", \"iata\": \"ZRH\", \"name\": \"Zurich\"}, \"scheduledTimeLocal\": \"2023-01-06 19:15+01:00\", \"actualTimeLocal\": \"2023-01-06 19:15+01:00\", \"scheduledTimeUtc\": \"2023-01-06 18:15Z\", \"actualTimeUtc\": \"2023-01-06 18:15Z\", \"checkInDesk\": \"2(2)\", \"quality\": [\"Basic\", \"Live\"]}, \"arrival\": {\"scheduledTimeLocal\": \"2023-01-06 19:50+00:00\", \"scheduledTimeUtc\": \"2023-01-06 19:50Z\", \"quality\": [\"Basic\"]}, \"number\": \"BA 8768\", \"status\": \"Unknown\", \"codeshareStatus\": \"Unknown\", \"isCargo\": false, \"aircraft\": {\"model\": \"Embraer 190\"}, \"airline\": {\"name\": \"British Airways\"}}, {\"departure\": {\"airport\": {\"icao\": \"EGPF\", \"iata\": \"GLA\", \"name\": \"Glasgow\"}, \"scheduledTimeLocal\": \"2023-01-06 18:55+00:00\", \"scheduledTimeUtc\": \"2023-01-06 18:55Z\", \"terminal\": \"M\", \"quality\": [\"Basic\"]}, \"arrival\": {\"scheduledTimeLocal\": \"2023-01-06 20:25+00:00\", \"scheduledTimeUtc\": \"2023-01-06 20:25Z\", \"quality\": [\"Basic\"]}, \"number\": \"BA 8729\", \"status\": \"Unknown\", \"codeshareStatus\": \"Unknown\", \"isCargo\": false, \"aircraft\": {\"model\": \"Embraer 190\"}, \"airline\": {\"name\": \"British Airways\"}}, {\"departure\": {\"airport\": {\"icao\": \"EIDW\", \"iata\": \"DUB\", \"name\": \"Dublin\"}, \"scheduledTimeLocal\": \"2023-01-06 19:15+00:00\", \"actualTimeLocal\": \"2023-01-06 19:15+00:00\", \"scheduledTimeUtc\": \"2023-01-06 19:15Z\", \"actualTimeUtc\": \"2023-01-06 19:15Z\", \"terminal\": \"1\", \"checkInDesk\": \"405-409\", \"gate\": \"213\", \"quality\": [\"Basic\", \"Live\"]}, \"arrival\": {\"scheduledTimeLocal\": \"2023-01-06 20:45+00:00\", \"scheduledTimeUtc\": \"2023-01-06 20:45Z\", \"quality\": [\"Basic\"]}, \"number\": \"BA 4471\", \"status\": \"Unknown\", \"codeshareStatus\": \"Unknown\", \"isCargo\": false, \"aircraft\": {\"model\": \"Embraer 190\"}, \"airline\": {\"name\": \"British Airways\"}}, {\"departure\": {\"airport\": {\"icao\": \"EDDF\", \"iata\": \"FRA\", \"name\": \"Frankfurt-am-Main\"}, \"scheduledTimeLocal\": \"2023-01-06 20:10+01:00\", \"actualTimeLocal\": \"2023-01-06 20:10+01:00\", \"scheduledTimeUtc\": \"2023-01-06 19:10Z\", \"actualTimeUtc\": \"2023-01-06 19:10Z\", \"terminal\": \"2\", \"quality\": [\"Basic\", \"Live\"]}, \"arrival\": {\"scheduledTimeLocal\": \"2023-01-06 20:45+00:00\", \"scheduledTimeUtc\": \"2023-01-06 20:45Z\", \"quality\": [\"Basic\"]}, \"number\": \"BA 8737\", \"status\": \"Unknown\", \"codeshareStatus\": \"IsCodeshared\", \"isCargo\": false, \"aircraft\": {\"model\": \"Embraer 190\"}, \"airline\": {\"name\": \"British Airways\"}}, {\"departure\": {\"airport\": {\"icao\": \"EDDB\", \"iata\": \"BER\", \"name\": \"Berlin\"}, \"scheduledTimeLocal\": \"2023-01-06 20:20+01:00\", \"scheduledTimeUtc\": \"2023-01-06 19:20Z\", \"terminal\": \"1\", \"quality\": [\"Basic\"]}, \"arrival\": {\"scheduledTimeLocal\": \"2023-01-06 21:15+00:00\", \"scheduledTimeUtc\": \"2023-01-06 21:15Z\", \"quality\": [\"Basic\"]}, \"number\": \"BA 7026\", \"status\": \"Unknown\", \"codeshareStatus\": \"Unknown\", \"isCargo\": false, \"aircraft\": {\"model\": \"Embraer 190\"}, \"airline\": {\"name\": \"British Airways\"}}, {\"departure\": {\"airport\": {\"icao\": \"EIDW\", \"iata\": \"DUB\", \"name\": \"Dublin\"}, \"scheduledTimeLocal\": \"2023-01-06 20:05+00:00\", \"actualTimeLocal\": \"2023-01-06 20:05+00:00\", \"scheduledTimeUtc\": \"2023-01-06 20:05Z\", \"actualTimeUtc\": \"2023-01-06 20:05Z\", \"terminal\": \"1\", \"checkInDesk\": \"405-409\", \"gate\": \"213\", \"quality\": [\"Basic\", \"Live\"]}, \"arrival\": {\"scheduledTimeLocal\": \"2023-01-06 21:35+00:00\", \"scheduledTimeUtc\": \"2023-01-06 21:35Z\", \"quality\": [\"Basic\"]}, \"number\": \"BA 4473\", \"status\": \"Unknown\", \"codeshareStatus\": \"Unknown\", \"isCargo\": false, \"aircraft\": {\"model\": \"Embraer 190\"}, \"airline\": {\"name\": \"British Airways\"}}, {\"departure\": {\"airport\": {\"icao\": \"ELLX\", \"iata\": \"LUX\", \"name\": \"Luxembourg\"}, \"scheduledTimeLocal\": \"2023-01-06 21:25+01:00\", \"actualTimeLocal\": \"2023-01-06 21:25+01:00\", \"scheduledTimeUtc\": \"2023-01-06 20:25Z\", \"actualTimeUtc\": \"2023-01-06 20:25Z\", \"quality\": [\"Basic\", \"Live\"]}, \"arrival\": {\"scheduledTimeLocal\": \"2023-01-06 21:45+00:00\", \"scheduledTimeUtc\": \"2023-01-06 21:45Z\", \"quality\": [\"Basic\"]}, \"number\": \"LG 4609\", \"status\": \"Unknown\", \"codeshareStatus\": \"Unknown\", \"isCargo\": false, \"aircraft\": {\"model\": \"Bombardier Dash 8 Q400 / DHC-8-400\"}, \"airline\": {\"name\": \"Luxair\"}}]}\n",
      "=========================\n"
     ]
    }
   ],
   "source": [
    "for res in responses:\n",
    "    if res.status_code != 200:\n",
    "        print(f\"Negative Response,{res.text}\")\n",
    "    else:\n",
    "        flights=res.json()\n",
    "        print(json.dumps(flights))\n",
    "        print(\"=========================\")\n",
    "        for flight in flights[\"arrivals\"]:\n",
    "            arrival_time_local = flight[\"arrival\"].get('scheduledTimeLocal', None)\n",
    "            arrival_terminal = flight['arrival'].get('terminal', None)\n",
    "            departure_city =  flight[\"departure\"][\"airport\"].get(\"name\", None)\n",
    "            departure_icao =  flight[\"departure\"][\"airport\"].get(\"icao\", None)\n",
    "            departure_time_local = flight[\"departure\"].get(\"scheduledTimeLocal\", None)\n",
    "            airline  =  flight[\"airline\"].get(\"name\", None)\n",
    "            flight_number  =  flight.get(\"number\", None)\n",
    "            data_retrieved_on  =  datetime.now().astimezone(timezone('Europe/Berlin')).date()\n"
   ]
  },
  {
   "cell_type": "code",
   "execution_count": 27,
   "metadata": {},
   "outputs": [],
   "source": [
    "json.dumps(responses[0].json())"
   ]
  },
  {
   "cell_type": "code",
   "execution_count": 28,
   "metadata": {},
   "outputs": [
    {
     "ename": "KeyError",
     "evalue": "'terminal'",
     "output_type": "error",
     "traceback": [
      "\u001b[1;31m---------------------------------------------------------------------------\u001b[0m",
      "\u001b[1;31mKeyError\u001b[0m                                  Traceback (most recent call last)",
      "\u001b[1;32md:\\_1_Technicals\\DataScience_Bootcamp\\W_06\\WebScrap_GansEscooter\\04_flights\\flights.ipynb Cell 9\u001b[0m in \u001b[0;36m<cell line: 2>\u001b[1;34m()\u001b[0m\n\u001b[0;32m      <a href='vscode-notebook-cell:/d%3A/_1_Technicals/DataScience_Bootcamp/W_06/WebScrap_GansEscooter/04_flights/flights.ipynb#X12sZmlsZQ%3D%3D?line=0'>1</a>\u001b[0m arrival_time_local \u001b[39m=\u001b[39m res[\u001b[39m\"\u001b[39m\u001b[39marrivals\u001b[39m\u001b[39m\"\u001b[39m][\u001b[39m0\u001b[39m][\u001b[39m\"\u001b[39m\u001b[39marrival\u001b[39m\u001b[39m\"\u001b[39m][\u001b[39m\"\u001b[39m\u001b[39mscheduledTimeLocal\u001b[39m\u001b[39m\"\u001b[39m]\n\u001b[1;32m----> <a href='vscode-notebook-cell:/d%3A/_1_Technicals/DataScience_Bootcamp/W_06/WebScrap_GansEscooter/04_flights/flights.ipynb#X12sZmlsZQ%3D%3D?line=1'>2</a>\u001b[0m arrival_terminal \u001b[39m=\u001b[39m res[\u001b[39m'\u001b[39;49m\u001b[39marrivals\u001b[39;49m\u001b[39m'\u001b[39;49m][\u001b[39m0\u001b[39;49m][\u001b[39m'\u001b[39;49m\u001b[39marrival\u001b[39;49m\u001b[39m'\u001b[39;49m][\u001b[39m'\u001b[39;49m\u001b[39mterminal\u001b[39;49m\u001b[39m'\u001b[39;49m]\n\u001b[0;32m      <a href='vscode-notebook-cell:/d%3A/_1_Technicals/DataScience_Bootcamp/W_06/WebScrap_GansEscooter/04_flights/flights.ipynb#X12sZmlsZQ%3D%3D?line=2'>3</a>\u001b[0m departure_city \u001b[39m=\u001b[39m  res[\u001b[39m\"\u001b[39m\u001b[39marrivals\u001b[39m\u001b[39m\"\u001b[39m][\u001b[39m0\u001b[39m][\u001b[39m\"\u001b[39m\u001b[39mdeparture\u001b[39m\u001b[39m\"\u001b[39m][\u001b[39m\"\u001b[39m\u001b[39mairport\u001b[39m\u001b[39m\"\u001b[39m][\u001b[39m\"\u001b[39m\u001b[39mname\u001b[39m\u001b[39m\"\u001b[39m]\n\u001b[0;32m      <a href='vscode-notebook-cell:/d%3A/_1_Technicals/DataScience_Bootcamp/W_06/WebScrap_GansEscooter/04_flights/flights.ipynb#X12sZmlsZQ%3D%3D?line=3'>4</a>\u001b[0m departure_icao \u001b[39m=\u001b[39m  res[\u001b[39m\"\u001b[39m\u001b[39marrivals\u001b[39m\u001b[39m\"\u001b[39m][\u001b[39m0\u001b[39m][\u001b[39m\"\u001b[39m\u001b[39mdeparture\u001b[39m\u001b[39m\"\u001b[39m][\u001b[39m\"\u001b[39m\u001b[39mairport\u001b[39m\u001b[39m\"\u001b[39m][\u001b[39m\"\u001b[39m\u001b[39micao\u001b[39m\u001b[39m\"\u001b[39m]\n",
      "\u001b[1;31mKeyError\u001b[0m: 'terminal'"
     ]
    }
   ],
   "source": [
    "arrival_time_local = res[\"arrivals\"][0][\"arrival\"][\"scheduledTimeLocal\"]\n",
    "arrival_terminal = res['arrivals'][0]['arrival']['terminal']\n",
    "departure_city =  res[\"arrivals\"][0][\"departure\"][\"airport\"][\"name\"]\n",
    "departure_icao =  res[\"arrivals\"][0][\"departure\"][\"airport\"][\"icao\"]\n",
    "departure_time_local = res[\"arrivals\"][0][\"departure\"][\"scheduledTimeLocal\"]\n",
    "airline  =  res[\"arrivals\"][0][\"airline\"][\"name\"]\n",
    "flight_number  =  res[\"arrivals\"][0][\"number\"]\n",
    "#data_retrieved_on  = "
   ]
  },
  {
   "cell_type": "code",
   "execution_count": 22,
   "metadata": {},
   "outputs": [
    {
     "data": {
      "text/plain": [
       "'2023-01-05 07:55+00:00'"
      ]
     },
     "execution_count": 22,
     "metadata": {},
     "output_type": "execute_result"
    }
   ],
   "source": [
    "arrival_time_local"
   ]
  }
 ],
 "metadata": {
  "kernelspec": {
   "display_name": "Python 3",
   "language": "python",
   "name": "python3"
  },
  "language_info": {
   "codemirror_mode": {
    "name": "ipython",
    "version": 3
   },
   "file_extension": ".py",
   "mimetype": "text/x-python",
   "name": "python",
   "nbconvert_exporter": "python",
   "pygments_lexer": "ipython3",
   "version": "3.9.1 (tags/v3.9.1:1e5d33e, Dec  7 2020, 17:08:21) [MSC v.1927 64 bit (AMD64)]"
  },
  "orig_nbformat": 4,
  "vscode": {
   "interpreter": {
    "hash": "81794d4967e6c3204c66dcd87b604927b115b27c00565d3d43f05ba2f3a2cb0d"
   }
  }
 },
 "nbformat": 4,
 "nbformat_minor": 2
}
