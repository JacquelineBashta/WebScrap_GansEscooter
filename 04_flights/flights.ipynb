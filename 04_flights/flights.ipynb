{
 "cells": [
  {
   "attachments": {},
   "cell_type": "markdown",
   "metadata": {},
   "source": [
    "## 1.Export"
   ]
  },
  {
   "attachments": {},
   "cell_type": "markdown",
   "metadata": {},
   "source": [
    "###  get airport_T_df"
   ]
  },
  {
   "cell_type": "code",
   "execution_count": 1,
   "metadata": {},
   "outputs": [],
   "source": [
    "import pandas as pd\n",
    "import sqlalchemy\n",
    "sys.path.append('..\\keys')\n",
    "import key\n",
    "\n",
    "schema=\"gans_db\"   # name of the database you want to use here\n",
    "host=\"localhost\"        # to connect to your local server\n",
    "user=\"root\"\n",
    "password=key.SQL_PASSWORD # your password!!!!\n",
    "port=3306\n",
    "con = f'mysql+pymysql://{user}:{password}@{host}:{port}/{schema}'\n",
    "airport_T_df = pd.read_sql_table('airport',con=con)"
   ]
  },
  {
   "cell_type": "code",
   "execution_count": 2,
   "metadata": {},
   "outputs": [
    {
     "data": {
      "text/plain": [
       "0    AZ-0001\n",
       "1       EDDH\n",
       "Name: icao, dtype: object"
      ]
     },
     "execution_count": 2,
     "metadata": {},
     "output_type": "execute_result"
    }
   ],
   "source": [
    "airport_T_df.icao[0:2]"
   ]
  },
  {
   "attachments": {},
   "cell_type": "markdown",
   "metadata": {},
   "source": [
    "### Connect to API and collect Data"
   ]
  },
  {
   "cell_type": "code",
   "execution_count": 3,
   "metadata": {},
   "outputs": [],
   "source": [
    "RERUN_TIME_IN_HOURS = 24\n",
    "FLIGHT_FORCAST_TIMEWINDOW = 12"
   ]
  },
  {
   "cell_type": "code",
   "execution_count": 4,
   "metadata": {},
   "outputs": [],
   "source": [
    "import math\n",
    "from pytz import timezone\n",
    "from datetime import datetime, date, timedelta\n",
    "import requests \n",
    "import json"
   ]
  },
  {
   "cell_type": "code",
   "execution_count": 5,
   "metadata": {},
   "outputs": [],
   "source": [
    "def connect_flight_api(airport_df):\n",
    "    # Prepare URL inputs\n",
    "    today = datetime.now().astimezone(timezone('Europe/Berlin')).date()\n",
    "    rerun_window = math.ceil(RERUN_TIME_IN_HOURS/24) #roundup to bigger integer\n",
    "    next_run = (today + timedelta(days=rerun_window))\n",
    "    times = [[\"00:00\",\"11:59\"],[\"12:00\",\"23:59\"]]\n",
    "    \n",
    "    flight_df_l = []\n",
    "    #Loop over all airports\n",
    "    for icao in airport_df.icao[1:2]:\n",
    "        for time in times:\n",
    "            url = f\"https://aerodatabox.p.rapidapi.com/flights/airports/icao/{icao}/{next_run}T{time[0]}/{next_run}T{time[1]}\"\n",
    "            querystring = {\"withLeg\":\"true\",\"direction\":\"Arrival\",\"withCancelled\":\"false\",\"withCodeshared\":\"true\",\"withCargo\":\"false\",\"withPrivate\":\"false\",\"withLocation\":\"false\"}\n",
    "            headers = {\n",
    "\t\t\t\t\"X-RapidAPI-Key\": f\"{key.Flight_API_key}\",\n",
    "\t\t\t\t\"X-RapidAPI-Host\": \"aerodatabox.p.rapidapi.com\"\n",
    "\t\t\t}\n",
    "            response = requests.request(\"GET\", url, headers=headers, params=querystring)\n",
    "            response.raise_for_status()\n",
    "            flights_12h_json = response.json()\n",
    "            for flight in flights_12h_json[\"arrivals\"]:\n",
    "                flight_dict = {}\n",
    "                flight_dict['arrival_icao']         = icao\n",
    "                flight_dict[\"arrival_time_local\"]   = flight[\"arrival\"].get('scheduledTimeLocal', pd.NaT)\n",
    "                flight_dict[\"arrival_terminal\"]     = flight['arrival'].get('terminal', \"unknown\")\n",
    "                flight_dict[\"departure_city\"]       =  flight[\"departure\"][\"airport\"].get(\"name\", \"unknown\")\n",
    "                flight_dict[\"departure_icao\"]       =  flight[\"departure\"][\"airport\"].get(\"icao\", \"unknown\")\n",
    "                flight_dict[\"departure_time_local\"] = flight[\"departure\"].get(\"scheduledTimeLocal\", pd.NaT)\n",
    "                flight_dict[\"airline\"]              =  flight[\"airline\"].get(\"name\", \"unknown\")\n",
    "                flight_dict[\"flight_number\"]        =  flight.get(\"number\", \"unknown\")\n",
    "                flight_dict[\"data_retrieved_on\"]    =  datetime.now().astimezone(timezone('Europe/Berlin')).date()\n",
    "                flight_df_l.append(flight_dict)\n",
    "    return flight_df_l"
   ]
  },
  {
   "cell_type": "code",
   "execution_count": 6,
   "metadata": {},
   "outputs": [],
   "source": [
    "#airport_id_l = [\"EGBB\",\"EPWA\"]\n",
    "flights_df_l = connect_flight_api(airport_T_df)"
   ]
  },
  {
   "cell_type": "code",
   "execution_count": 7,
   "metadata": {},
   "outputs": [],
   "source": [
    "flight_df = pd.DataFrame(flights_df_l)"
   ]
  },
  {
   "cell_type": "code",
   "execution_count": 8,
   "metadata": {},
   "outputs": [
    {
     "data": {
      "text/plain": [
       "82"
      ]
     },
     "execution_count": 8,
     "metadata": {},
     "output_type": "execute_result"
    }
   ],
   "source": [
    "len(flight_df)"
   ]
  },
  {
   "cell_type": "code",
   "execution_count": 9,
   "metadata": {},
   "outputs": [
    {
     "data": {
      "text/html": [
       "<div>\n",
       "<style scoped>\n",
       "    .dataframe tbody tr th:only-of-type {\n",
       "        vertical-align: middle;\n",
       "    }\n",
       "\n",
       "    .dataframe tbody tr th {\n",
       "        vertical-align: top;\n",
       "    }\n",
       "\n",
       "    .dataframe thead th {\n",
       "        text-align: right;\n",
       "    }\n",
       "</style>\n",
       "<table border=\"1\" class=\"dataframe\">\n",
       "  <thead>\n",
       "    <tr style=\"text-align: right;\">\n",
       "      <th></th>\n",
       "      <th>arrival_icao</th>\n",
       "      <th>arrival_time_local</th>\n",
       "      <th>arrival_terminal</th>\n",
       "      <th>departure_city</th>\n",
       "      <th>departure_icao</th>\n",
       "      <th>departure_time_local</th>\n",
       "      <th>airline</th>\n",
       "      <th>flight_number</th>\n",
       "      <th>data_retrieved_on</th>\n",
       "    </tr>\n",
       "  </thead>\n",
       "  <tbody>\n",
       "    <tr>\n",
       "      <th>0</th>\n",
       "      <td>EDDH</td>\n",
       "      <td>2023-01-14 06:10+01:00</td>\n",
       "      <td>1</td>\n",
       "      <td>Saint Martin</td>\n",
       "      <td>TNCM</td>\n",
       "      <td>NaT</td>\n",
       "      <td>Air X Charter</td>\n",
       "      <td>AXY 449P</td>\n",
       "      <td>2023-01-13</td>\n",
       "    </tr>\n",
       "    <tr>\n",
       "      <th>1</th>\n",
       "      <td>EDDH</td>\n",
       "      <td>2023-01-14 07:35+01:00</td>\n",
       "      <td>2</td>\n",
       "      <td>Frankfurt-am-Main</td>\n",
       "      <td>EDDF</td>\n",
       "      <td>2023-01-14 06:30+01:00</td>\n",
       "      <td>Lufthansa</td>\n",
       "      <td>LH 2</td>\n",
       "      <td>2023-01-13</td>\n",
       "    </tr>\n",
       "    <tr>\n",
       "      <th>2</th>\n",
       "      <td>EDDH</td>\n",
       "      <td>2023-01-14 08:50+01:00</td>\n",
       "      <td>2</td>\n",
       "      <td>Zurich</td>\n",
       "      <td>LSZH</td>\n",
       "      <td>2023-01-14 07:20+01:00</td>\n",
       "      <td>SWISS</td>\n",
       "      <td>LX 1050</td>\n",
       "      <td>2023-01-13</td>\n",
       "    </tr>\n",
       "    <tr>\n",
       "      <th>3</th>\n",
       "      <td>EDDH</td>\n",
       "      <td>2023-01-14 08:55+01:00</td>\n",
       "      <td>2</td>\n",
       "      <td>Vienna</td>\n",
       "      <td>LOWW</td>\n",
       "      <td>2023-01-14 07:20+01:00</td>\n",
       "      <td>Austrian</td>\n",
       "      <td>OS 175</td>\n",
       "      <td>2023-01-13</td>\n",
       "    </tr>\n",
       "    <tr>\n",
       "      <th>4</th>\n",
       "      <td>EDDH</td>\n",
       "      <td>2023-01-14 09:25+01:00</td>\n",
       "      <td>2</td>\n",
       "      <td>London</td>\n",
       "      <td>EGLL</td>\n",
       "      <td>2023-01-14 06:50+00:00</td>\n",
       "      <td>British Airways</td>\n",
       "      <td>BA 964</td>\n",
       "      <td>2023-01-13</td>\n",
       "    </tr>\n",
       "    <tr>\n",
       "      <th>...</th>\n",
       "      <td>...</td>\n",
       "      <td>...</td>\n",
       "      <td>...</td>\n",
       "      <td>...</td>\n",
       "      <td>...</td>\n",
       "      <td>...</td>\n",
       "      <td>...</td>\n",
       "      <td>...</td>\n",
       "      <td>...</td>\n",
       "    </tr>\n",
       "    <tr>\n",
       "      <th>77</th>\n",
       "      <td>EDDH</td>\n",
       "      <td>2023-01-14 22:35+01:00</td>\n",
       "      <td>1</td>\n",
       "      <td>Tenerife Island</td>\n",
       "      <td>GCTS</td>\n",
       "      <td>2023-01-14 16:25+00:00</td>\n",
       "      <td>Eurowings</td>\n",
       "      <td>EW 7533</td>\n",
       "      <td>2023-01-13</td>\n",
       "    </tr>\n",
       "    <tr>\n",
       "      <th>78</th>\n",
       "      <td>EDDH</td>\n",
       "      <td>2023-01-14 22:35+01:00</td>\n",
       "      <td>2</td>\n",
       "      <td>Munich</td>\n",
       "      <td>EDDM</td>\n",
       "      <td>2023-01-14 21:15+01:00</td>\n",
       "      <td>Lufthansa</td>\n",
       "      <td>LH 2088</td>\n",
       "      <td>2023-01-13</td>\n",
       "    </tr>\n",
       "    <tr>\n",
       "      <th>79</th>\n",
       "      <td>EDDH</td>\n",
       "      <td>2023-01-14 22:35+01:00</td>\n",
       "      <td>2</td>\n",
       "      <td>Frankfurt-am-Main</td>\n",
       "      <td>EDDF</td>\n",
       "      <td>2023-01-14 21:30+01:00</td>\n",
       "      <td>Lufthansa</td>\n",
       "      <td>LH 36</td>\n",
       "      <td>2023-01-13</td>\n",
       "    </tr>\n",
       "    <tr>\n",
       "      <th>80</th>\n",
       "      <td>EDDH</td>\n",
       "      <td>2023-01-14 22:05+01:00</td>\n",
       "      <td>1</td>\n",
       "      <td>Istanbul</td>\n",
       "      <td>LTFM</td>\n",
       "      <td>2023-01-14 20:35+03:00</td>\n",
       "      <td>Turkish</td>\n",
       "      <td>TK 1667</td>\n",
       "      <td>2023-01-13</td>\n",
       "    </tr>\n",
       "    <tr>\n",
       "      <th>81</th>\n",
       "      <td>EDDH</td>\n",
       "      <td>2023-01-14 22:35+01:00</td>\n",
       "      <td>2</td>\n",
       "      <td>Lisbon</td>\n",
       "      <td>LPPT</td>\n",
       "      <td>2023-01-14 18:10+00:00</td>\n",
       "      <td>TAP Air Portugal</td>\n",
       "      <td>TP 564</td>\n",
       "      <td>2023-01-13</td>\n",
       "    </tr>\n",
       "  </tbody>\n",
       "</table>\n",
       "<p>82 rows × 9 columns</p>\n",
       "</div>"
      ],
      "text/plain": [
       "   arrival_icao      arrival_time_local arrival_terminal     departure_city  \\\n",
       "0          EDDH  2023-01-14 06:10+01:00                1       Saint Martin   \n",
       "1          EDDH  2023-01-14 07:35+01:00                2  Frankfurt-am-Main   \n",
       "2          EDDH  2023-01-14 08:50+01:00                2             Zurich   \n",
       "3          EDDH  2023-01-14 08:55+01:00                2             Vienna   \n",
       "4          EDDH  2023-01-14 09:25+01:00                2             London   \n",
       "..          ...                     ...              ...                ...   \n",
       "77         EDDH  2023-01-14 22:35+01:00                1    Tenerife Island   \n",
       "78         EDDH  2023-01-14 22:35+01:00                2             Munich   \n",
       "79         EDDH  2023-01-14 22:35+01:00                2  Frankfurt-am-Main   \n",
       "80         EDDH  2023-01-14 22:05+01:00                1           Istanbul   \n",
       "81         EDDH  2023-01-14 22:35+01:00                2             Lisbon   \n",
       "\n",
       "   departure_icao    departure_time_local           airline flight_number  \\\n",
       "0            TNCM                     NaT     Air X Charter      AXY 449P   \n",
       "1            EDDF  2023-01-14 06:30+01:00         Lufthansa          LH 2   \n",
       "2            LSZH  2023-01-14 07:20+01:00             SWISS       LX 1050   \n",
       "3            LOWW  2023-01-14 07:20+01:00          Austrian        OS 175   \n",
       "4            EGLL  2023-01-14 06:50+00:00   British Airways        BA 964   \n",
       "..            ...                     ...               ...           ...   \n",
       "77           GCTS  2023-01-14 16:25+00:00         Eurowings       EW 7533   \n",
       "78           EDDM  2023-01-14 21:15+01:00         Lufthansa       LH 2088   \n",
       "79           EDDF  2023-01-14 21:30+01:00         Lufthansa         LH 36   \n",
       "80           LTFM  2023-01-14 20:35+03:00           Turkish       TK 1667   \n",
       "81           LPPT  2023-01-14 18:10+00:00  TAP Air Portugal        TP 564   \n",
       "\n",
       "   data_retrieved_on  \n",
       "0         2023-01-13  \n",
       "1         2023-01-13  \n",
       "2         2023-01-13  \n",
       "3         2023-01-13  \n",
       "4         2023-01-13  \n",
       "..               ...  \n",
       "77        2023-01-13  \n",
       "78        2023-01-13  \n",
       "79        2023-01-13  \n",
       "80        2023-01-13  \n",
       "81        2023-01-13  \n",
       "\n",
       "[82 rows x 9 columns]"
      ]
     },
     "execution_count": 9,
     "metadata": {},
     "output_type": "execute_result"
    }
   ],
   "source": [
    "flight_df"
   ]
  },
  {
   "cell_type": "code",
   "execution_count": 10,
   "metadata": {},
   "outputs": [
    {
     "data": {
      "text/plain": [
       "array(['1', '2'], dtype=object)"
      ]
     },
     "execution_count": 10,
     "metadata": {},
     "output_type": "execute_result"
    }
   ],
   "source": [
    "flight_df.arrival_terminal.unique()"
   ]
  },
  {
   "attachments": {},
   "cell_type": "markdown",
   "metadata": {},
   "source": [
    "## 2.Transform"
   ]
  },
  {
   "cell_type": "code",
   "execution_count": 12,
   "metadata": {},
   "outputs": [],
   "source": [
    "flight_c_df = flight_df.copy()"
   ]
  },
  {
   "attachments": {},
   "cell_type": "markdown",
   "metadata": {},
   "source": [
    "### change timestamp type"
   ]
  },
  {
   "cell_type": "code",
   "execution_count": 13,
   "metadata": {},
   "outputs": [
    {
     "name": "stdout",
     "output_type": "stream",
     "text": [
      "<class 'pandas.core.frame.DataFrame'>\n",
      "RangeIndex: 82 entries, 0 to 81\n",
      "Data columns (total 9 columns):\n",
      " #   Column                Non-Null Count  Dtype \n",
      "---  ------                --------------  ----- \n",
      " 0   arrival_icao          82 non-null     object\n",
      " 1   arrival_time_local    82 non-null     object\n",
      " 2   arrival_terminal      82 non-null     object\n",
      " 3   departure_city        82 non-null     object\n",
      " 4   departure_icao        82 non-null     object\n",
      " 5   departure_time_local  78 non-null     object\n",
      " 6   airline               82 non-null     object\n",
      " 7   flight_number         82 non-null     object\n",
      " 8   data_retrieved_on     82 non-null     object\n",
      "dtypes: object(9)\n",
      "memory usage: 5.9+ KB\n"
     ]
    }
   ],
   "source": [
    "flight_c_df.info()"
   ]
  },
  {
   "cell_type": "code",
   "execution_count": 14,
   "metadata": {},
   "outputs": [],
   "source": [
    "flight_c_df.arrival_time_local = pd.to_datetime(flight_c_df.arrival_time_local,utc=True)"
   ]
  },
  {
   "cell_type": "code",
   "execution_count": 15,
   "metadata": {},
   "outputs": [],
   "source": [
    "flight_c_df.data_retrieved_on = pd.to_datetime(flight_c_df.data_retrieved_on)"
   ]
  },
  {
   "cell_type": "code",
   "execution_count": 16,
   "metadata": {},
   "outputs": [
    {
     "data": {
      "text/html": [
       "<div>\n",
       "<style scoped>\n",
       "    .dataframe tbody tr th:only-of-type {\n",
       "        vertical-align: middle;\n",
       "    }\n",
       "\n",
       "    .dataframe tbody tr th {\n",
       "        vertical-align: top;\n",
       "    }\n",
       "\n",
       "    .dataframe thead th {\n",
       "        text-align: right;\n",
       "    }\n",
       "</style>\n",
       "<table border=\"1\" class=\"dataframe\">\n",
       "  <thead>\n",
       "    <tr style=\"text-align: right;\">\n",
       "      <th></th>\n",
       "      <th>arrival_icao</th>\n",
       "      <th>arrival_time_local</th>\n",
       "      <th>arrival_terminal</th>\n",
       "      <th>departure_city</th>\n",
       "      <th>departure_icao</th>\n",
       "      <th>departure_time_local</th>\n",
       "      <th>airline</th>\n",
       "      <th>flight_number</th>\n",
       "      <th>data_retrieved_on</th>\n",
       "    </tr>\n",
       "  </thead>\n",
       "  <tbody>\n",
       "  </tbody>\n",
       "</table>\n",
       "</div>"
      ],
      "text/plain": [
       "Empty DataFrame\n",
       "Columns: [arrival_icao, arrival_time_local, arrival_terminal, departure_city, departure_icao, departure_time_local, airline, flight_number, data_retrieved_on]\n",
       "Index: []"
      ]
     },
     "execution_count": 16,
     "metadata": {},
     "output_type": "execute_result"
    }
   ],
   "source": [
    "flight_c_df.loc[flight_c_df.departure_time_local == pd.NaT]"
   ]
  },
  {
   "cell_type": "code",
   "execution_count": 17,
   "metadata": {},
   "outputs": [],
   "source": [
    "flight_c_df.departure_time_local = pd.to_datetime(flight_c_df.departure_time_local,utc=True)"
   ]
  },
  {
   "cell_type": "code",
   "execution_count": 18,
   "metadata": {},
   "outputs": [
    {
     "data": {
      "text/plain": [
       "51   2023-01-14 12:55:00+00:00\n",
       "56   2023-01-14 16:00:00+00:00\n",
       "28   2023-01-14 07:45:00+00:00\n",
       "68   2023-01-14 15:45:00+00:00\n",
       "65   2023-01-14 18:00:00+00:00\n",
       "15   2023-01-14 08:10:00+00:00\n",
       "71   2023-01-14 17:20:00+00:00\n",
       "44   2023-01-14 12:35:00+00:00\n",
       "5    2023-01-14 05:35:00+00:00\n",
       "6    2023-01-14 07:15:00+00:00\n",
       "Name: departure_time_local, dtype: datetime64[ns, UTC]"
      ]
     },
     "execution_count": 18,
     "metadata": {},
     "output_type": "execute_result"
    }
   ],
   "source": [
    "flight_c_df.departure_time_local.sample(10)"
   ]
  },
  {
   "attachments": {},
   "cell_type": "markdown",
   "metadata": {},
   "source": [
    "## 3.Load"
   ]
  },
  {
   "attachments": {},
   "cell_type": "markdown",
   "metadata": {},
   "source": [
    "### load the flight info to Local MySQL"
   ]
  },
  {
   "cell_type": "code",
   "execution_count": 19,
   "metadata": {},
   "outputs": [
    {
     "data": {
      "text/plain": [
       "82"
      ]
     },
     "execution_count": 19,
     "metadata": {},
     "output_type": "execute_result"
    }
   ],
   "source": [
    "flight_c_df.to_sql('flight',con=con,if_exists='append',index=False)"
   ]
  }
 ],
 "metadata": {
  "kernelspec": {
   "display_name": "Python 3",
   "language": "python",
   "name": "python3"
  },
  "language_info": {
   "codemirror_mode": {
    "name": "ipython",
    "version": 3
   },
   "file_extension": ".py",
   "mimetype": "text/x-python",
   "name": "python",
   "nbconvert_exporter": "python",
   "pygments_lexer": "ipython3",
   "version": "3.9.1"
  },
  "orig_nbformat": 4,
  "vscode": {
   "interpreter": {
    "hash": "81794d4967e6c3204c66dcd87b604927b115b27c00565d3d43f05ba2f3a2cb0d"
   }
  }
 },
 "nbformat": 4,
 "nbformat_minor": 2
}
