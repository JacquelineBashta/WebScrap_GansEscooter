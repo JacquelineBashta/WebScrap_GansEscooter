{
 "cells": [
  {
   "cell_type": "code",
   "execution_count": 141,
   "metadata": {},
   "outputs": [],
   "source": [
    "from bs4 import BeautifulSoup\n",
    "import pandas as pd\n",
    "import requests"
   ]
  },
  {
   "cell_type": "code",
   "execution_count": 152,
   "metadata": {},
   "outputs": [],
   "source": [
    "url_wiki = \"https://en.wikipedia.org/wiki/List_of_European_cities_by_population_within_city_limits\"\n",
    "headers = {'Accept-Language': 'en-US,en;q=0.8'}\n",
    "response = requests.get(url_wiki, headers = headers)\n",
    "\n",
    "if response.status_code == 200:\n",
    "    soup = BeautifulSoup(response.content, \"html.parser\")"
   ]
  },
  {
   "cell_type": "code",
   "execution_count": 153,
   "metadata": {},
   "outputs": [],
   "source": [
    "city_dict={\n",
    "    \"city\":[],\n",
    "    \"country\":[],\n",
    "    \"population\":[],\n",
    "    \"coordination\":[]\n",
    "}"
   ]
  },
  {
   "cell_type": "code",
   "execution_count": 155,
   "metadata": {},
   "outputs": [],
   "source": [
    "table_rows = \"table.wikitable tr\"\n",
    "#print(soup.select(table_rows))\n",
    "#mw-content-text > div.mw-parser-output > table > tbody > tr:nth-child(4)\n",
    "for i, row in enumerate(soup.select(table_rows)):\n",
    "    if (i == 0):\n",
    "        continue\n",
    "    #cities\n",
    "    #mw-content-text > div.mw-parser-output > table > tbody > tr:nth-child(1) > td:nth-child(2) > a\n",
    "    city_dict[\"city\"].append(row.select(\"td\")[1].select(\"a\")[0].get_text())\n",
    "\n",
    "    #counties\n",
    "    #print(row.select(\" td\")[2].select(\"a\")[0].get_text())\n",
    "    city_dict[\"country\"].append(row.select(\"td\")[2].select(\"a\")[0].get_text())\n",
    "    \n",
    "    #population\n",
    "    #mw-content-text > div.mw-parser-output > table > tbody > tr:nth-child(1) > td:nth-child(4)\n",
    "    #print(row.select(\" td\")[3].select(\"span\")[0].get_text())\n",
    "    city_dict[\"population\"].append(row.select(\"td\")[3].select(\"span\")[0].get_text())\n",
    "    \n",
    "    #coordination\n",
    "    #mw-content-text > div.mw-parser-output > table > tbody > tr:nth-child(1) > td:nth-child(8) > span > span > a > span.geo-default > span > span.geo-dec\n",
    "    #print(row.select(\" td\")[7].select(\"span.geo-dec\")[0].get_text())\n",
    "    \n",
    "    city_dict[\"coordination\"].append(row.select(\"td\")[7].select(\"span.geo-dec\")[0].get_text())\n"
   ]
  },
  {
   "cell_type": "code",
   "execution_count": 156,
   "metadata": {},
   "outputs": [
    {
     "data": {
      "text/plain": [
       "True"
      ]
     },
     "execution_count": 156,
     "metadata": {},
     "output_type": "execute_result"
    }
   ],
   "source": [
    "len(city_dict[\"city\"]) == len(city_dict[\"country\"]) == len(city_dict[\"population\"]) == len(city_dict[\"coordination\"])"
   ]
  },
  {
   "cell_type": "code",
   "execution_count": 157,
   "metadata": {},
   "outputs": [],
   "source": [
    "df=pd.DataFrame(city_dict)"
   ]
  },
  {
   "cell_type": "code",
   "execution_count": 171,
   "metadata": {},
   "outputs": [
    {
     "data": {
      "text/html": [
       "<div>\n",
       "<style scoped>\n",
       "    .dataframe tbody tr th:only-of-type {\n",
       "        vertical-align: middle;\n",
       "    }\n",
       "\n",
       "    .dataframe tbody tr th {\n",
       "        vertical-align: top;\n",
       "    }\n",
       "\n",
       "    .dataframe thead th {\n",
       "        text-align: right;\n",
       "    }\n",
       "</style>\n",
       "<table border=\"1\" class=\"dataframe\">\n",
       "  <thead>\n",
       "    <tr style=\"text-align: right;\">\n",
       "      <th></th>\n",
       "      <th>0</th>\n",
       "      <th>1</th>\n",
       "    </tr>\n",
       "  </thead>\n",
       "  <tbody>\n",
       "    <tr>\n",
       "      <th>0</th>\n",
       "      <td>41.013611°N</td>\n",
       "      <td>28.955°E</td>\n",
       "    </tr>\n",
       "    <tr>\n",
       "      <th>1</th>\n",
       "      <td>55.75°N</td>\n",
       "      <td>37.616667°E</td>\n",
       "    </tr>\n",
       "    <tr>\n",
       "      <th>2</th>\n",
       "      <td>51.507222°N</td>\n",
       "      <td>0.1275°W</td>\n",
       "    </tr>\n",
       "    <tr>\n",
       "      <th>3</th>\n",
       "      <td>59.95°N</td>\n",
       "      <td>30.3°E</td>\n",
       "    </tr>\n",
       "    <tr>\n",
       "      <th>4</th>\n",
       "      <td>52.516667°N</td>\n",
       "      <td>13.383333°E</td>\n",
       "    </tr>\n",
       "    <tr>\n",
       "      <th>...</th>\n",
       "      <td>...</td>\n",
       "      <td>...</td>\n",
       "    </tr>\n",
       "    <tr>\n",
       "      <th>67</th>\n",
       "      <td>40.181°N</td>\n",
       "      <td>44.51°E</td>\n",
       "    </tr>\n",
       "    <tr>\n",
       "      <th>68</th>\n",
       "      <td>50.936389°N</td>\n",
       "      <td>6.952778°E</td>\n",
       "    </tr>\n",
       "    <tr>\n",
       "      <th>69</th>\n",
       "      <td>51.671667°N</td>\n",
       "      <td>39.210556°E</td>\n",
       "    </tr>\n",
       "    <tr>\n",
       "      <th>70</th>\n",
       "      <td>58°N</td>\n",
       "      <td>56.316667°E</td>\n",
       "    </tr>\n",
       "    <tr>\n",
       "      <th>71</th>\n",
       "      <td>48.7°N</td>\n",
       "      <td>44.516667°E</td>\n",
       "    </tr>\n",
       "  </tbody>\n",
       "</table>\n",
       "<p>72 rows × 2 columns</p>\n",
       "</div>"
      ],
      "text/plain": [
       "              0            1\n",
       "0   41.013611°N     28.955°E\n",
       "1       55.75°N  37.616667°E\n",
       "2   51.507222°N     0.1275°W\n",
       "3       59.95°N       30.3°E\n",
       "4   52.516667°N  13.383333°E\n",
       "..          ...          ...\n",
       "67     40.181°N      44.51°E\n",
       "68  50.936389°N   6.952778°E\n",
       "69  51.671667°N  39.210556°E\n",
       "70         58°N  56.316667°E\n",
       "71       48.7°N  44.516667°E\n",
       "\n",
       "[72 rows x 2 columns]"
      ]
     },
     "execution_count": 171,
     "metadata": {},
     "output_type": "execute_result"
    }
   ],
   "source": [
    "df.coordination.str.extract(\"^(.+) (.+)$\")"
   ]
  }
 ],
 "metadata": {
  "kernelspec": {
   "display_name": "Python 3",
   "language": "python",
   "name": "python3"
  },
  "language_info": {
   "codemirror_mode": {
    "name": "ipython",
    "version": 3
   },
   "file_extension": ".py",
   "mimetype": "text/x-python",
   "name": "python",
   "nbconvert_exporter": "python",
   "pygments_lexer": "ipython3",
   "version": "3.9.1 (tags/v3.9.1:1e5d33e, Dec  7 2020, 17:08:21) [MSC v.1927 64 bit (AMD64)]"
  },
  "orig_nbformat": 4,
  "vscode": {
   "interpreter": {
    "hash": "81794d4967e6c3204c66dcd87b604927b115b27c00565d3d43f05ba2f3a2cb0d"
   }
  }
 },
 "nbformat": 4,
 "nbformat_minor": 2
}
